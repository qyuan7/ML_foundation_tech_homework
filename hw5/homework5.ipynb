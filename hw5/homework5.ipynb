{
 "cells": [
  {
   "cell_type": "code",
   "execution_count": 2,
   "metadata": {
    "collapsed": false
   },
   "outputs": [],
   "source": [
    "import math\n",
    "import numpy as np\n",
    "import pandas as pd\n",
    "from cvxopt import matrix, solvers\n",
    "import matplotlib.pyplot as plt\n",
    "from sklearn.svm import SVC"
   ]
  },
  {
   "cell_type": "code",
   "execution_count": 47,
   "metadata": {
    "collapsed": false
   },
   "outputs": [
    {
     "data": {
      "image/png": "[encoded data removed]",
      "text/plain": [
       "<matplotlib.figure.Figure at 0x2b0d67d55ed0>"
      ]
     },
     "metadata": {},
     "output_type": "display_data"
    }
   ],
   "source": [
    "# Q2\n",
    "X = np.array([[1,0],[0,1],[0,-1],[-1,0],[0,2],[0,-2],[-2,0]])\n",
    "Y = np.array([[-1,-1,-1,1,1,1,1]])\n",
    "row,col = X.shape\n",
    "Z = np.zeros(X.shape)\n",
    "Z[:,0] = X[:,1]**2 - 2*X[:,0] + 3\n",
    "Z[:,1] = X[:,0]**2 - 2*X[:,1] - 3\n",
    "pos1 = (Y == -1); pos2 = (Y == 1)\n",
    "Z\n",
    "l1x = [4, 4]; l1y = [-7.5, 1.5]\n",
    "l2x = [5, 5]; l2y = [-7.5, 1.5]\n",
    "plt.plot(Z[pos1[0],0], Z[pos1[0],1],'x', Z[pos2[0],0],Z[pos2[0],1], 'o')\n",
    "plt.plot(l1x, l1y, '--',l2x, l2y, '--')\n",
    "plt.show()"
   ]
  },
  {
   "cell_type": "code",
   "execution_count": 61,
   "metadata": {
    "collapsed": false
   },
   "outputs": [
    {
     "name": "stdout",
     "output_type": "stream",
     "text": [
      "under label for SVs： [1 2 3 4 5] \n",
      "corresponding alpha*y： [[-0.64491963 -0.76220325  0.88870349  0.22988879  0.2885306 ]] \n",
      "b:  [-1.66633141]\n"
     ]
    }
   ],
   "source": [
    "# Q3 ---C无穷大代表Hard-margin情况\n",
    "Y = Y.reshape(-1,1)\n",
    "clf = SVC(C=1e20, kernel='poly', degree=2, gamma=1, coef0=1, shrinking=False)\n",
    "clf.fit(X, Y)\n",
    "print 'under label for SVs：',clf.support_, '\\ncorresponding alpha*y：', clf.dual_coef_,'\\nb: ',clf.intercept_"
   ]
  },
  {
   "cell_type": "code",
   "execution_count": 68,
   "metadata": {
    "collapsed": false
   },
   "outputs": [
    {
     "name": "stdout",
     "output_type": "stream",
     "text": [
      "     pcost       dcost       gap    pres   dres\n",
      " 0:  1.8445e-01  4.8307e+00  2e+01  2e+00  1e+01\n",
      " 1:  1.6711e+00  4.7954e-01  5e+00  6e-01  3e+00\n",
      " 2:  2.0952e+00  1.2189e+00  9e-01  4e-16  5e-16\n",
      " 3:  1.4261e+00  1.3986e+00  3e-02  9e-16  3e-15\n",
      " 4:  1.4076e+00  1.4073e+00  3e-04  7e-16  2e-15\n",
      " 5:  1.4074e+00  1.4074e+00  3e-06  1e-15  2e-15\n",
      " 6:  1.4074e+00  1.4074e+00  3e-08  6e-16  2e-15\n",
      "Optimal solution found.\n",
      "parameters：  [-1.67e+00 -1.26e+00  2.48e-17  8.89e-01  6.67e-01]\n",
      "\n"
     ]
    }
   ],
   "source": [
    "#Q4 linear svm with QP\n",
    "Xtrans = np.zeros((7, 5))\n",
    "Xtrans[:, 0] = np.ones((7,))\n",
    "Xtrans[:, 1] = math.sqrt(2)*X[:,0]\n",
    "Xtrans[:, 2] = math.sqrt(2)*X[:,1]\n",
    "Xtrans[:, 3] = X[:, 0]**2\n",
    "Xtrans[:, 4] = X[:, 1]**2\n",
    "P = np.zeros((5,5)); P[1:, 1:] = np.eye(4)\n",
    "q = np.zeros([5,1])\n",
    "h = -1*np.ones((7,1))\n",
    "G = -1*Xtrans*Y\n",
    "\n",
    "G = matrix(G); P = matrix(P); q = matrix(q); h = matrix(h)\n",
    "sol = solvers.qp(P, q, G, h)\n",
    "print'parameters： ',sol['x'].T"
   ]
  }
 ],
 "metadata": {
  "kernelspec": {
   "display_name": "Python 2",
   "language": "python",
   "name": "python2"
  },
  "language_info": {
   "codemirror_mode": {
    "name": "ipython",
    "version": 2
   },
   "file_extension": ".py",
   "mimetype": "text/x-python",
   "name": "python",
   "nbconvert_exporter": "python",
   "pygments_lexer": "ipython2",
   "version": "2.7.13"
  }
 },
 "nbformat": 4,
 "nbformat_minor": 2
}

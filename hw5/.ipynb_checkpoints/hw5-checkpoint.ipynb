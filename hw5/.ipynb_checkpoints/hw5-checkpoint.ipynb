{
 "cells": [
  {
   "cell_type": "code",
   "execution_count": 6,
   "metadata": {
    "collapsed": true,
    "deletable": true,
    "editable": true
   },
   "outputs": [],
   "source": [
    "import math\n",
    "import numpy as np\n",
    "import pandas as pd\n",
    "from cvxopt import matrix, solvers\n",
    "import matplotlib.pyplot as plt\n",
    "from sklearn.svm import SVC"
   ]
  },
  {
   "cell_type": "code",
   "execution_count": 2,
   "metadata": {
    "collapsed": false,
    "deletable": true,
    "editable": true
   },
   "outputs": [
    {
     "data": {
      "image/png": "[encoded data removed]",
      "text/plain": [
       "<matplotlib.figure.Figure at 0x7f8b22fcac18>"
      ]
     },
     "metadata": {},
     "output_type": "display_data"
    }
   ],
   "source": [
    "# Q2\n",
    "X = np.array([[1, 0], [0, 1], [0, -1], [-1, 0], [0, 2], [0, -2], [-2, 0]])\n",
    "Y = np.array([-1, -1, -1, 1, 1, 1, 1])\n",
    "row, col = X.shape\n",
    "z = np.zeros(X.shape)\n",
    "z[:, 0] = X[:, 1]**2-2*X[:, 0]+3\n",
    "z[:, 1] = X[:, 0]**2-2*X[:, 1]-3\n",
    "pos1 = Y == -1; pos2 = Y == 1\n",
    "l1x = [4, 4]; l1y = [-7.5, 1.5]\n",
    "l2x = [5, 5]; l2y = [-7.5, 1.5]\n",
    "plt.plot(z[pos1, 0], z[pos1, 1], 'x', z[pos2, 0], z[pos2, 1], 'o')\n",
    "plt.plot(l1x, l1y, '--',l2x, l2y, '--')\n",
    "plt.show()"
   ]
  },
  {
   "cell_type": "code",
   "execution_count": 3,
   "metadata": {
    "collapsed": false,
    "deletable": true,
    "editable": true
   },
   "outputs": [
    {
     "name": "stdout",
     "output_type": "stream",
     "text": [
      "支撑向量对应下标： [1 2 3 4 5] \n",
      "对应的alpha*y： [[-0.64491963 -0.76220325  0.88870349  0.22988879  0.2885306 ]] \n",
      " b:  [-1.66633141]\n"
     ]
    }
   ],
   "source": [
    "# Q3 ---C无穷大代表Hard-margin情况\n",
    "clf = SVC(C=1e20, kernel='poly', degree=2, gamma=1, coef0=1, shrinking=False)\n",
    "clf.fit(X, Y)\n",
    "print('支撑向量对应下标：',clf.support_, '\\n对应的alpha*y：', clf.dual_coef_,'\\n b: ',clf.intercept_)"
   ]
  },
  {
   "cell_type": "code",
   "execution_count": 5,
   "metadata": {
    "collapsed": false,
    "deletable": true,
    "editable": true
   },
   "outputs": [
    {
     "name": "stdout",
     "output_type": "stream",
     "text": [
      "     pcost       dcost       gap    pres   dres\n",
      " 0:  1.8445e-01  4.8307e+00  2e+01  2e+00  1e+01\n",
      " 1:  1.6711e+00  4.7954e-01  5e+00  6e-01  3e+00\n",
      " 2:  2.0952e+00  1.2189e+00  9e-01  4e-16  1e-15\n",
      " 3:  1.4261e+00  1.3986e+00  3e-02  4e-16  6e-16\n",
      " 4:  1.4076e+00  1.4073e+00  3e-04  1e-16  2e-15\n",
      " 5:  1.4074e+00  1.4074e+00  3e-06  4e-16  2e-15\n",
      " 6:  1.4074e+00  1.4074e+00  3e-08  1e-16  2e-15\n",
      "Optimal solution found.\n",
      "对应的参数为：  [-1.67e+00 -1.26e+00  5.58e-18  8.89e-01  6.67e-01]\n",
      "\n"
     ]
    }
   ],
   "source": [
    "# Q4\n",
    "Xtrans = np.zeros((7, 5))\n",
    "Xtrans[:, 0] = np.ones((7,))\n",
    "Xtrans[:, 1] = math.sqrt(2)*X[:, 0]\n",
    "Xtrans[:, 2] = math.sqrt(2)*X[:, 1]\n",
    "Xtrans[:, 3] = X[:, 0]**2\n",
    "Xtrans[:, 4] = X[:, 1]**2\n",
    "G = (-1*Xtrans.T*Y).T\n",
    "P = np.zeros((5, 5)); P[1:, 1:] = np.eye(4)\n",
    "q = np.zeros((5, 1))\n",
    "h = -1*np.ones((7, 1))\n",
    "G = matrix(G); P = matrix(P); q = matrix(q); h = matrix(h)\n",
    "sol = solvers.qp(P, q, G, h)\n",
    "print('对应的参数为： ',sol['x'].T)"
   ]
  },
  {
   "cell_type": "code",
   "execution_count": 7,
   "metadata": {
    "collapsed": true
   },
   "outputs": [],
   "source": [
    "# Q15~Q20\n",
    "# 加载数据函数\n",
    "def loadData(filename):\n",
    "    data = pd.read_csv(filename, sep='\\s+', header=None)\n",
    "    data = data.as_matrix()\n",
    "    col, row = data.shape\n",
    "    X = np.c_[np.ones((col, 1)), data[:, 1: row]]\n",
    "    Y = data[:, 0]\n",
    "    return X, Y"
   ]
  },
  {
   "cell_type": "code",
   "execution_count": 8,
   "metadata": {
    "collapsed": true
   },
   "outputs": [],
   "source": [
    "# 误差计算函数\n",
    "def mistake(yhat, y):\n",
    "    err = np.sum(yhat != y)/len(y)\n",
    "    return err"
   ]
  },
  {
   "cell_type": "code",
   "execution_count": 9,
   "metadata": {
    "collapsed": true
   },
   "outputs": [],
   "source": [
    "# 导入数据\n",
    "X, Y = loadData('features_train.dat')\n",
    "Xtest, Ytest = loadData('features_test.dat')\n",
    "row, col = X.shape"
   ]
  },
  {
   "cell_type": "code",
   "execution_count": 11,
   "metadata": {
    "collapsed": false
   },
   "outputs": [
    {
     "name": "stdout",
     "output_type": "stream",
     "text": [
      "w:  [[ -1.82145965e-15   5.70727340e-01   2.59535779e-02]] \n",
      " |w|:  0.571317149084\n"
     ]
    }
   ],
   "source": [
    "# Q15\n",
    "Ytemp = Y.copy()\n",
    "pos1 = Ytemp == 0; pos2 = Ytemp != 0\n",
    "Ytemp[pos1] = 1; Ytemp[pos2] = -1\n",
    "clf = SVC(C=0.01, kernel='linear', shrinking=False)\n",
    "clf.fit(X, Ytemp)\n",
    "print('w: ', clf.coef_, '\\n |w|: ', np.linalg.norm(clf.coef_))"
   ]
  },
  {
   "cell_type": "code",
   "execution_count": 16,
   "metadata": {
    "collapsed": false
   },
   "outputs": [
    {
     "name": "stdout",
     "output_type": "stream",
     "text": [
      "\tEin\t\t Sum_alpha\n",
      "[[  1.02455082e-01   2.14119479e+01]\n",
      " [  1.44013167e-02   3.74000000e+00]\n",
      " [  1.00260595e-01   1.46200000e+01]\n",
      " [  9.02482513e-02   1.31600000e+01]\n",
      " [  8.94253189e-02   1.30400000e+01]\n",
      " [  7.62584008e-02   1.11200000e+01]\n",
      " [  9.10711837e-02   1.32800000e+01]\n",
      " [  8.84652311e-02   1.29000000e+01]\n",
      " [  7.43382252e-02   1.08400000e+01]\n",
      " [  8.83280757e-02   1.28800000e+01]]\n"
     ]
    }
   ],
   "source": [
    "# Q16~Q17\n",
    "Ein = np.zeros((10,))\n",
    "Salpha = np.zeros((10,))\n",
    "clf = SVC(C=0.01, kernel='poly', degree=2, gamma=1, coef0=1, shrinking=False)\n",
    "for i in range(10):\n",
    "    Ytemp = Y.copy()\n",
    "    pos1 = Ytemp == i; pos2 = Ytemp != i\n",
    "    Ytemp[pos1] = 1; Ytemp[pos2] = -1\n",
    "    clf.fit(X, Ytemp)\n",
    "    Yhat = clf.predict(X)\n",
    "    Ein[i] = mistake(Ytemp, Yhat)\n",
    "    Salpha[i] = np.sum(np.abs(clf.dual_coef_))\n",
    "out = np.c_[Ein,Salpha]\n",
    "print('\\tEin\\t\\t Sum_alpha')\n",
    "print(out)"
   ]
  },
  {
   "cell_type": "code",
   "execution_count": 19,
   "metadata": {
    "collapsed": false
   },
   "outputs": [
    {
     "name": "stdout",
     "output_type": "stream",
     "text": [
      "\tC\t\t n_suport\t eout\n",
      "[[  1.00000000e-03   2.39800000e+03   1.78873941e-01]\n",
      " [  1.00000000e-02   2.52000000e+03   1.78873941e-01]\n",
      " [  1.00000000e-01   2.28500000e+03   1.05132038e-01]\n",
      " [  1.00000000e+00   1.77400000e+03   1.03637270e-01]\n",
      " [  1.00000000e+01   1.67300000e+03   1.04633782e-01]]\n"
     ]
    }
   ],
   "source": [
    "# Q18\n",
    "c = np.array([0.001, 0.01, 0.1, 1, 10])\n",
    "nsup = np.zeros((len(c),))\n",
    "eout = np.zeros((len(c),))\n",
    "Ytemp = Y.copy()\n",
    "pos1 = Ytemp == 0; pos2 = Ytemp != 0\n",
    "Ytemp[pos1] = 1; Ytemp[pos2] = -1\n",
    "Ytesttemp = Ytest.copy()\n",
    "pos1 = Ytesttemp == 0; pos2 = Ytesttemp != 0\n",
    "Ytesttemp[pos1] = 1; Ytesttemp[pos2] = -1\n",
    "for i in range(len(c)):\n",
    "    clf = SVC(C=c[i], kernel='rbf', gamma=100, shrinking=False)\n",
    "    clf.fit(X, Ytemp)\n",
    "    nsup[i] = np.sum(clf.n_support_)\n",
    "    yhat = clf.predict(Xtest)\n",
    "    eout[i] = mistake(Ytesttemp, yhat)\n",
    "out = np.c_[np.c_[c,nsup],eout]\n",
    "print('\\tC\\t\\t n_suport\\t eout')\n",
    "print(out)"
   ]
  },
  {
   "cell_type": "code",
   "execution_count": 20,
   "metadata": {
    "collapsed": false
   },
   "outputs": [
    {
     "name": "stdout",
     "output_type": "stream",
     "text": [
      "\t gamma \t\t eout\n",
      "[[  1.00000000e+00   1.07125062e-01]\n",
      " [  1.00000000e+01   9.91529646e-02]\n",
      " [  1.00000000e+02   1.05132038e-01]\n",
      " [  1.00000000e+03   1.78873941e-01]\n",
      " [  1.00000000e+04   1.78873941e-01]]\n"
     ]
    }
   ],
   "source": [
    "# Q19\n",
    "gamma1 = np.array([1, 10, 100, 1000, 10000])\n",
    "eout = np.zeros((len(gamma1),))\n",
    "Ytemp = Y.copy()\n",
    "pos1 = Ytemp == 0; pos2 = Ytemp != 0\n",
    "Ytemp[pos1] = 1; Ytemp[pos2] = -1\n",
    "Ytesttemp = Ytest.copy()\n",
    "pos1 = Ytesttemp == 0; pos2 = Ytesttemp != 0\n",
    "Ytesttemp[pos1] = 1; Ytesttemp[pos2] = -1\n",
    "for i in range(len(gamma1)):\n",
    "    clf = SVC(C=0.1, kernel='rbf', gamma=gamma1[i], shrinking=False)\n",
    "    clf.fit(X, Ytemp)\n",
    "    yhat = clf.predict(Xtest)\n",
    "    eout[i] = mistake(yhat, Ytesttemp)\n",
    "out = np.c_[gamma1, eout]\n",
    "print('\\t gamma \\t\\t eout')\n",
    "print(out)"
   ]
  },
  {
   "cell_type": "code",
   "execution_count": 21,
   "metadata": {
    "collapsed": false
   },
   "outputs": [
    {
     "name": "stdout",
     "output_type": "stream",
     "text": [
      "\t gamma\t\t eout\n",
      "[[  1.00000000e+00   1.05900000e-01]\n",
      " [  1.00000000e+01   9.94500000e-02]\n",
      " [  1.00000000e+02   1.00830000e-01]\n",
      " [  1.00000000e+03   1.64670000e-01]\n",
      " [  1.00000000e+04   1.62690000e-01]]\n"
     ]
    }
   ],
   "source": [
    "# Q20\n",
    "evali = np.zeros((len(gamma1),))\n",
    "Ytemp = Y.copy()\n",
    "pos1 = Ytemp == 0; pos2 = Ytemp != 0\n",
    "Ytemp[pos1] = 1; Ytemp[pos2] = -1\n",
    "for i in range(len(gamma1)):\n",
    "    for j in range(100):\n",
    "        pos = np.random.permutation(row)\n",
    "        Xval = X[pos[0:1000], :]; Yval = Ytemp[pos[0:1000]]\n",
    "        Xtrain = X[pos[1000:], :]; Ytrain = Ytemp[pos[1000:]]\n",
    "        clf = SVC(C=0.1, kernel='rbf', gamma=gamma1[i], shrinking=False)\n",
    "        clf.fit(Xtrain, Ytrain)\n",
    "        yhat = clf.predict(Xval)\n",
    "        evali[i] += mistake(yhat, Yval)\n",
    "out = np.c_[gamma1, evali/100]\n",
    "print('\\t gamma\\t\\t eout')\n",
    "print(out)"
   ]
  }
 ],
 "metadata": {
  "kernelspec": {
   "display_name": "Python 2",
   "language": "python",
   "name": "python2"
  },
  "language_info": {
   "codemirror_mode": {
    "name": "ipython",
    "version": 2
   },
   "file_extension": ".py",
   "mimetype": "text/x-python",
   "name": "python",
   "nbconvert_exporter": "python",
   "pygments_lexer": "ipython2",
   "version": "2.7.13"
  }
 },
 "nbformat": 4,
 "nbformat_minor": 2
}

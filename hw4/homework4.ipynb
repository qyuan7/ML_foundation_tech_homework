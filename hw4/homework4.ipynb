{
 "cells": [
  {
   "cell_type": "code",
   "execution_count": 2,
   "metadata": {
    "collapsed": true
   },
   "outputs": [],
   "source": [
    "import math\n",
    "import numpy as np\n",
    "import pandas as pd\n",
    "import scipy.linalg as lin"
   ]
  },
  {
   "cell_type": "code",
   "execution_count": 3,
   "metadata": {
    "collapsed": true
   },
   "outputs": [],
   "source": [
    "# load data\n",
    "def loaddata(filename):\n",
    "    data = pd.read_csv(filename, sep='\\s+', header=None)\n",
    "    data = data.as_matrix()\n",
    "    row, col = data.shape\n",
    "    X = np.c_[np.ones([row,1]), data[:, 0 : col-1]]\n",
    "    Y = data[:, col-1:col]\n",
    "    return X, Y"
   ]
  },
  {
   "cell_type": "code",
   "execution_count": 8,
   "metadata": {
    "collapsed": true
   },
   "outputs": [],
   "source": [
    "# calc mistake\n",
    "def mistake(X, Y, theta):\n",
    "    yhat = np.sign(X.dot(theta)) # attention, yhat collects the sign of outputs !\n",
    "    yhat[yhat==0] = -1\n",
    "    error = float(np.sum(yhat != Y))/len(Y)\n",
    "    return error"
   ]
  },
  {
   "cell_type": "code",
   "execution_count": 9,
   "metadata": {
    "collapsed": false
   },
   "outputs": [
    {
     "name": "stdout",
     "output_type": "stream",
     "text": [
      "ein is 0.05, eout is 0.045\n"
     ]
    }
   ],
   "source": [
    "#Q13\n",
    "X, Y = loaddata('hw4_train.dat')\n",
    "Xtest, Ytest = loaddata('hw4_test.dat')\n",
    "lamb = 10\n",
    "row, col = Xtrain.shape\n",
    "wreg = lin.pinv(lamb*np.eye(col)+X.T.dot(X)).dot(X.T).dot(Y)\n",
    "ein = mistake(X, Y, wreg)\n",
    "eout = mistake(Xtest, Ytest, wreg)\n",
    "print 'ein is %s, eout is %s' %(ein, eout)"
   ]
  },
  {
   "cell_type": "code",
   "execution_count": 11,
   "metadata": {
    "collapsed": false
   },
   "outputs": [
    {
     "name": "stdout",
     "output_type": "stream",
     "text": [
      "\tlambda\t\t Ein\t\t Eout\n",
      "[[  1.00000000e-10   1.50000000e-02   2.00000000e-02]\n",
      " [  1.00000000e-09   1.50000000e-02   2.00000000e-02]\n",
      " [  1.00000000e-08   1.50000000e-02   2.00000000e-02]\n",
      " [  1.00000000e-07   3.00000000e-02   1.50000000e-02]\n",
      " [  1.00000000e-06   3.50000000e-02   1.60000000e-02]\n",
      " [  1.00000000e-05   3.00000000e-02   1.60000000e-02]\n",
      " [  1.00000000e-04   3.00000000e-02   1.60000000e-02]\n",
      " [  1.00000000e-03   3.00000000e-02   1.60000000e-02]\n",
      " [  1.00000000e-02   3.00000000e-02   1.60000000e-02]\n",
      " [  1.00000000e-01   3.50000000e-02   1.60000000e-02]\n",
      " [  1.00000000e+00   3.50000000e-02   2.00000000e-02]\n",
      " [  1.00000000e+01   5.00000000e-02   4.50000000e-02]\n",
      " [  1.00000000e+02   2.40000000e-01   2.61000000e-01]]\n"
     ]
    }
   ],
   "source": [
    "#Q14 and Q15. Selection among lambs\n",
    "arr = np.arange(-10,3,1)\n",
    "num = len(arr)\n",
    "lamb = 10.0**arr\n",
    "ein = np.zeros((num,)); eout = np.zeros((num,)); evali = np.zeros((num,))\n",
    "for i in range(num):\n",
    "    wreg = lin.pinv(lamb[i]*np.eye(col)+ X.T.dot(X)).dot(X.T).dot(Y)\n",
    "    ein[i] = mistake(X, Y, wreg)\n",
    "    eout[i] = mistake(Xtest, Ytest, wreg)\n",
    "out = np.c_[np.c_[np.array(lamb), ein],eout]\n",
    "print '\\tlambda\\t\\t Ein\\t\\t Eout'\n",
    "print out"
   ]
  },
  {
   "cell_type": "code",
   "execution_count": 13,
   "metadata": {
    "collapsed": false
   },
   "outputs": [
    {
     "name": "stdout",
     "output_type": "stream",
     "text": [
      "\tlambda\t\t Ein\t\t Eval\t\t Eout\n",
      "[[  1.00000000e-10   8.33333333e-03   1.25000000e-01   4.00000000e-02]\n",
      " [  1.00000000e-09   0.00000000e+00   1.00000000e-01   3.80000000e-02]\n",
      " [  1.00000000e-08   0.00000000e+00   5.00000000e-02   2.50000000e-02]\n",
      " [  1.00000000e-07   3.33333333e-02   3.75000000e-02   2.10000000e-02]\n",
      " [  1.00000000e-06   3.33333333e-02   3.75000000e-02   2.10000000e-02]\n",
      " [  1.00000000e-05   3.33333333e-02   3.75000000e-02   2.10000000e-02]\n",
      " [  1.00000000e-04   3.33333333e-02   3.75000000e-02   2.10000000e-02]\n",
      " [  1.00000000e-03   3.33333333e-02   3.75000000e-02   2.10000000e-02]\n",
      " [  1.00000000e-02   3.33333333e-02   3.75000000e-02   2.10000000e-02]\n",
      " [  1.00000000e-01   3.33333333e-02   3.75000000e-02   2.20000000e-02]\n",
      " [  1.00000000e+00   3.33333333e-02   3.75000000e-02   2.80000000e-02]\n",
      " [  1.00000000e+01   7.50000000e-02   1.25000000e-01   8.00000000e-02]\n",
      " [  1.00000000e+02   3.41666667e-01   4.12500000e-01   4.14000000e-01]]\n"
     ]
    }
   ],
   "source": [
    "#Q16 and Q17. Selection among lambs with validation\n",
    "X, Y = loaddata('hw4_train.dat')\n",
    "Xtest, Ytest = loaddata('hw4_test.dat')\n",
    "Xtrain = X[0:120,:]; Ytrain = Y[0:120, :]\n",
    "Xval = X[120:, :]; Yval = Y[120:, :]\n",
    "row, col = X.shape\n",
    "arr = np.arange(-10,3,1); num = len(arr)\n",
    "lamb = 10.0 ** arr\n",
    "ein = np.zeros((num,)); eout = np.zeros((num,)); evali = np.zeros((num,))\n",
    "for i in range(num):\n",
    "    wreg = lin.pinv(lamb[i]*np.eye(col) + Xtrain.T.dot(Xtrain)).dot(Xtrain.T).dot(Ytrain)\n",
    "    ein[i] = mistake(Xtrain, Ytrain, wreg)\n",
    "    evali[i] = mistake(Xval, Yval, wreg)\n",
    "    eout[i] = mistake(Xtest, Ytest, wreg)\n",
    "out = np.c_[np.c_[np.c_[np.array(lamb), ein], evali], eout]\n",
    "print '\\tlambda\\t\\t Ein\\t\\t Eval\\t\\t Eout'\n",
    "print out"
   ]
  },
  {
   "cell_type": "code",
   "execution_count": 15,
   "metadata": {
    "collapsed": false
   },
   "outputs": [
    {
     "name": "stdout",
     "output_type": "stream",
     "text": [
      "ein is 0.035, eout is 0.02\n"
     ]
    }
   ],
   "source": [
    "#Q18 use the optimal lambda\n",
    "lambmin = lamb [np.where(evali == evali.min())[0][-1]]\n",
    "wreg = lin.pinv(lambmin*np.eye(col) + X.T.dot(X)).dot(X.T).dot(Y)\n",
    "ein = mistake(X, Y, wreg)\n",
    "eout = mistake(Xtest, Ytest, wreg)\n",
    "print 'ein is %s, eout is %s' %(ein, eout)"
   ]
  },
  {
   "cell_type": "code",
   "execution_count": 21,
   "metadata": {
    "collapsed": false
   },
   "outputs": [
    {
     "name": "stdout",
     "output_type": "stream",
     "text": [
      "\tlambda\t\t eval\n",
      "[[  1.00000000e-10   5.00000000e-02]\n",
      " [  1.00000000e-09   5.00000000e-02]\n",
      " [  1.00000000e-08   3.00000000e-02]\n",
      " [  1.00000000e-07   3.50000000e-02]\n",
      " [  1.00000000e-06   3.50000000e-02]\n",
      " [  1.00000000e-05   3.50000000e-02]\n",
      " [  1.00000000e-04   3.50000000e-02]\n",
      " [  1.00000000e-03   3.50000000e-02]\n",
      " [  1.00000000e-02   3.50000000e-02]\n",
      " [  1.00000000e-01   3.50000000e-02]\n",
      " [  1.00000000e+00   3.50000000e-02]\n",
      " [  1.00000000e+01   6.00000000e-02]\n",
      " [  1.00000000e+02   2.90000000e-01]]\n"
     ]
    }
   ],
   "source": [
    "#Q19 5 fold validation\n",
    "ein = np.zeros((num,)); evali = np.zeros((num,))\n",
    "for m in range(num):\n",
    "    for i in range(5):\n",
    "        Xval = X[40*i:40*(i+1), :]\n",
    "        Yval = Y[40*i:40*(i+1), :]\n",
    "        Xtrain = np.r_[X[0:40*i, :], X[40*(i+1):, :]]\n",
    "        Ytrain = np.r_[Y[0:40*i, :], Y[40*(i+1):, :]]\n",
    "        wreg = lin.pinv(lamb[m]*np.eye(col)+Xtrain.T.dot(Xtrain)).dot(Xtrain.T).dot(Ytrain)\n",
    "        evali[m] += mistake(Xval, Yval, wreg)\n",
    "    evali[m] /= 5\n",
    "out = np.c_[lamb, evali]\n",
    "print '\\tlambda\\t\\t eval'\n",
    "print out"
   ]
  },
  {
   "cell_type": "code",
   "execution_count": 23,
   "metadata": {
    "collapsed": false
   },
   "outputs": [
    {
     "name": "stdout",
     "output_type": "stream",
     "text": [
      "ein: 0.015, eout: 0.02\n"
     ]
    }
   ],
   "source": [
    "#Q20 calculate ein and eout using optimal lambda\n",
    "lambmin = lamb[np.where(evali == np.min(evali))[0][-1]]\n",
    "wreg = lin.pinv(lambmin*np.eye(col) + X.T.dot(X)).dot(X.T).dot(Y)\n",
    "ein = mistake(X, Y, wreg)\n",
    "eout = mistake(Xtest, Ytest, wreg)\n",
    "print 'ein: %s, eout: %s' % (ein, eout)"
   ]
  }
 ],
 "metadata": {
  "kernelspec": {
   "display_name": "Python 2",
   "language": "python",
   "name": "python2"
  },
  "language_info": {
   "codemirror_mode": {
    "name": "ipython",
    "version": 2
   },
   "file_extension": ".py",
   "mimetype": "text/x-python",
   "name": "python",
   "nbconvert_exporter": "python",
   "pygments_lexer": "ipython2",
   "version": "2.7.13"
  }
 },
 "nbformat": 4,
 "nbformat_minor": 2
}

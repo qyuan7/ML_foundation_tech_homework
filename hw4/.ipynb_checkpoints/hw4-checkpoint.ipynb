{
 "cells": [
  {
   "cell_type": "code",
   "execution_count": 1,
   "metadata": {
    "collapsed": true
   },
   "outputs": [],
   "source": [
    "import math\n",
    "import numpy as np\n",
    "import pandas as pd\n",
    "import matplotlib.pyplot as plt\n",
    "import scipy.linalg as lin"
   ]
  },
  {
   "cell_type": "code",
   "execution_count": 3,
   "metadata": {
    "collapsed": false
   },
   "outputs": [
    {
     "name": "stdout",
     "output_type": "stream",
     "text": [
      "常数方程的err，对于不同选项情况下的err\n",
      "E:  [  0.60128253  48.24871131   0.125        0.49016295]\n"
     ]
    }
   ],
   "source": [
    "# Q5\n",
    "p1 = math.sqrt(math.sqrt(3)+4)\n",
    "p2 = math.sqrt(math.sqrt(3)-1)\n",
    "p3 = math.sqrt(4*math.sqrt(6) + 9)\n",
    "p4 = math.sqrt(-math.sqrt(6)+9)\n",
    "p = np.array([p1, p2, p3, p4])\n",
    "out = 1/(p+1)**2+1/(p-1)**2\n",
    "print('常数方程的err，对于不同选项情况下的err')\n",
    "print('E: ', out)"
   ]
  },
  {
   "cell_type": "code",
   "execution_count": 4,
   "metadata": {
    "collapsed": true
   },
   "outputs": [],
   "source": [
    "# 数据导入模块\n",
    "def loadData(filename):\n",
    "    data = pd.read_csv(filename, sep='\\s+', header=None)\n",
    "    data = data.as_matrix()\n",
    "    col, row = data.shape\n",
    "    X = np.c_[np.ones((col, 1)), data[:, 0: row-1]]\n",
    "    Y = data[:, row-1:row]\n",
    "    return X, Y"
   ]
  },
  {
   "cell_type": "code",
   "execution_count": 5,
   "metadata": {
    "collapsed": true
   },
   "outputs": [],
   "source": [
    "# 误差计算函数\n",
    "def mistake(X, Y, theta):\n",
    "    yhat = np.sign(X.dot(theta))\n",
    "    yhat[yhat == 0] = -1\n",
    "    err = np.sum(yhat != Y)/len(Y)\n",
    "    return err"
   ]
  },
  {
   "cell_type": "code",
   "execution_count": 6,
   "metadata": {
    "collapsed": false
   },
   "outputs": [
    {
     "name": "stdout",
     "output_type": "stream",
     "text": [
      "Ein:  0.05 Eout:  0.045\n"
     ]
    }
   ],
   "source": [
    "# Q13 --- lambda=10的情况\n",
    "X, Y = loadData('hw4_train.dat')\n",
    "Xtest, Ytest = loadData('hw4_test.dat')\n",
    "lamb = 10\n",
    "row, col = X.shape\n",
    "wreg = lin.pinv(X.T.dot(X)+lamb*np.eye(col)).dot(X.T).dot(Y)\n",
    "ein = mistake(X, Y, wreg)\n",
    "eout = mistake(Xtest, Ytest, wreg)\n",
    "print('Ein: ',ein,'Eout: ',eout)"
   ]
  },
  {
   "cell_type": "code",
   "execution_count": 24,
   "metadata": {
    "collapsed": false
   },
   "outputs": [
    {
     "name": "stdout",
     "output_type": "stream",
     "text": [
      "\tlambda\t\t Ein\t\t Eout\n",
      "[[  1.00000000e-10   1.50000000e-02   2.00000000e-02]\n",
      " [  1.00000000e-09   1.50000000e-02   2.00000000e-02]\n",
      " [  1.00000000e-08   1.50000000e-02   2.00000000e-02]\n",
      " [  1.00000000e-07   3.00000000e-02   1.50000000e-02]\n",
      " [  1.00000000e-06   3.50000000e-02   1.60000000e-02]\n",
      " [  1.00000000e-05   3.00000000e-02   1.60000000e-02]\n",
      " [  1.00000000e-04   3.00000000e-02   1.60000000e-02]\n",
      " [  1.00000000e-03   3.00000000e-02   1.60000000e-02]\n",
      " [  1.00000000e-02   3.00000000e-02   1.60000000e-02]\n",
      " [  1.00000000e-01   3.50000000e-02   1.60000000e-02]\n",
      " [  1.00000000e+00   3.50000000e-02   2.00000000e-02]\n",
      " [  1.00000000e+01   5.00000000e-02   4.50000000e-02]\n",
      " [  1.00000000e+02   2.40000000e-01   2.61000000e-01]]\n"
     ]
    }
   ],
   "source": [
    "# Q14和Q15 --- 不同lambda情况下选择最佳的lambda\n",
    "arr = np.arange(-10, 3, 1); num =len(arr)\n",
    "lamb = 10.0**arr\n",
    "ein = np.zeros((num,)); eout = np.zeros((num,)); evali = np.zeros((num,))\n",
    "for i in range(num):\n",
    "    wreg = lin.pinv(X.T.dot(X) + lamb[i] * np.eye(col)).dot(X.T).dot(Y)\n",
    "    ein[i] = mistake(X, Y, wreg)\n",
    "    eout[i] = mistake(Xtest, Ytest, wreg)\n",
    "out = np.c_[np.c_[np.array(lamb),ein],eout]\n",
    "print('\\tlambda\\t\\t Ein\\t\\t Eout')\n",
    "print(out)"
   ]
  },
  {
   "cell_type": "code",
   "execution_count": 26,
   "metadata": {
    "collapsed": false
   },
   "outputs": [
    {
     "name": "stdout",
     "output_type": "stream",
     "text": [
      "\tlambda\t\t  Ein\t\t  Eval\t\t  Eout\n",
      "[[  1.00000000e-10   8.33333333e-03   1.25000000e-01   4.00000000e-02]\n",
      " [  1.00000000e-09   0.00000000e+00   1.00000000e-01   3.80000000e-02]\n",
      " [  1.00000000e-08   0.00000000e+00   5.00000000e-02   2.50000000e-02]\n",
      " [  1.00000000e-07   3.33333333e-02   3.75000000e-02   2.10000000e-02]\n",
      " [  1.00000000e-06   3.33333333e-02   3.75000000e-02   2.10000000e-02]\n",
      " [  1.00000000e-05   3.33333333e-02   3.75000000e-02   2.10000000e-02]\n",
      " [  1.00000000e-04   3.33333333e-02   3.75000000e-02   2.10000000e-02]\n",
      " [  1.00000000e-03   3.33333333e-02   3.75000000e-02   2.10000000e-02]\n",
      " [  1.00000000e-02   3.33333333e-02   3.75000000e-02   2.10000000e-02]\n",
      " [  1.00000000e-01   3.33333333e-02   3.75000000e-02   2.20000000e-02]\n",
      " [  1.00000000e+00   3.33333333e-02   3.75000000e-02   2.80000000e-02]\n",
      " [  1.00000000e+01   7.50000000e-02   1.25000000e-01   8.00000000e-02]\n",
      " [  1.00000000e+02   3.41666667e-01   4.12500000e-01   4.14000000e-01]]\n"
     ]
    }
   ],
   "source": [
    "# Q16和Q17\n",
    "Xtrain = X[0:120, :]; Ytrain = Y[0:120, :]\n",
    "Xval = X[120:, :]; Yval = Y[120:, :]\n",
    "ein = np.zeros((num,)); eout = np.zeros((num,)); evali = np.zeros((num,))\n",
    "for i in range(num):\n",
    "    wreg = lin.pinv(Xtrain.T.dot(Xtrain) + lamb[i] * np.eye(col)).dot(Xtrain.T).dot(Ytrain)\n",
    "    ein[i] = mistake(Xtrain, Ytrain, wreg)\n",
    "    eout[i] = mistake(Xtest, Ytest, wreg)\n",
    "    evali[i] = mistake(Xval, Yval, wreg)\n",
    "out = np.c_[np.c_[np.c_[np.array(lamb),ein],evali],eout]\n",
    "print('\\tlambda\\t\\t  Ein\\t\\t  Eval\\t\\t  Eout')\n",
    "print(out)"
   ]
  },
  {
   "cell_type": "code",
   "execution_count": 27,
   "metadata": {
    "collapsed": false
   },
   "outputs": [
    {
     "name": "stdout",
     "output_type": "stream",
     "text": [
      "Ein:  0.035 Eout:  0.02\n"
     ]
    }
   ],
   "source": [
    "# Q18\n",
    "lambmin = lamb[np.where(evali == np.min(evali))[0][-1]]\n",
    "wreg = lin.pinv(X.T.dot(X) + lambmin * np.eye(col)).dot(X.T).dot(Y)\n",
    "errin = mistake(X, Y, wreg)\n",
    "errout = mistake(Xtest, Ytest, wreg)\n",
    "print('Ein: ',errin,'Eout: ',errout)"
   ]
  },
  {
   "cell_type": "code",
   "execution_count": 29,
   "metadata": {
    "collapsed": false
   },
   "outputs": [
    {
     "name": "stdout",
     "output_type": "stream",
     "text": [
      "\tlambda\t\t  Ecv\n",
      "[[  1.00000000e-10   5.00000000e-02]\n",
      " [  1.00000000e-09   5.00000000e-02]\n",
      " [  1.00000000e-08   3.00000000e-02]\n",
      " [  1.00000000e-07   3.50000000e-02]\n",
      " [  1.00000000e-06   3.50000000e-02]\n",
      " [  1.00000000e-05   3.50000000e-02]\n",
      " [  1.00000000e-04   3.50000000e-02]\n",
      " [  1.00000000e-03   3.50000000e-02]\n",
      " [  1.00000000e-02   3.50000000e-02]\n",
      " [  1.00000000e-01   3.50000000e-02]\n",
      " [  1.00000000e+00   3.50000000e-02]\n",
      " [  1.00000000e+01   6.00000000e-02]\n",
      " [  1.00000000e+02   2.90000000e-01]]\n"
     ]
    }
   ],
   "source": [
    "# Q19\n",
    "ein = np.zeros((num,)); eout = np.zeros((num,))\n",
    "for j in range(num):\n",
    "    for i in range(5):\n",
    "        Xval = X[40*i:40*(i+1), :]\n",
    "        Yval = Y[40*i:40*(i+1), :]\n",
    "        Xtrain = np.r_[X[0:40*i, :], X[40*(i+1):, :]]\n",
    "        Ytrain = np.r_[Y[0:40*i, :], Y[40*(i+1):, :]]\n",
    "        wreg = lin.pinv(Xtrain.T.dot(Xtrain) + lamb[j] * np.eye(col)).dot(Xtrain.T).dot(Ytrain)\n",
    "        ein[j] += mistake(Xval, Yval, wreg)\n",
    "    ein[j] /= 5\n",
    "out = np.c_[np.array(lamb), ein]\n",
    "print('\\tlambda\\t\\t  Ecv')\n",
    "print(out)"
   ]
  },
  {
   "cell_type": "code",
   "execution_count": 30,
   "metadata": {
    "collapsed": false
   },
   "outputs": [
    {
     "name": "stdout",
     "output_type": "stream",
     "text": [
      "Ein:  0.015 Eout:  0.02\n"
     ]
    }
   ],
   "source": [
    "# Q20\n",
    "lambmin = lamb[np.where(ein == np.min(ein))[0][-1]]\n",
    "wreg = lin.pinv(X.T.dot(X) + lambmin * np.eye(col)).dot(X.T).dot(Y)\n",
    "errin = mistake(X, Y, wreg)\n",
    "errout = mistake(Xtest, Ytest, wreg)\n",
    "print('Ein: ',errin,'Eout: ',errout)"
   ]
  }
 ],
 "metadata": {
  "kernelspec": {
   "display_name": "Python 2",
   "language": "python",
   "name": "python2"
  },
  "language_info": {
   "codemirror_mode": {
    "name": "ipython",
    "version": 2
   },
   "file_extension": ".py",
   "mimetype": "text/x-python",
   "name": "python",
   "nbconvert_exporter": "python",
   "pygments_lexer": "ipython2",
   "version": "2.7.13"
  }
 },
 "nbformat": 4,
 "nbformat_minor": 2
}

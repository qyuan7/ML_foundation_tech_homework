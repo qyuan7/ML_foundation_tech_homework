{
 "cells": [
  {
   "cell_type": "markdown",
   "metadata": {},
   "source": [
    "### 问题6"
   ]
  },
  {
   "cell_type": "code",
   "execution_count": 1,
   "metadata": {
    "collapsed": true
   },
   "outputs": [],
   "source": [
    "import numpy as np\n",
    "import pandas as pd"
   ]
  },
  {
   "cell_type": "code",
   "execution_count": 2,
   "metadata": {
    "collapsed": true
   },
   "outputs": [],
   "source": [
    "# 导入数据函数\n",
    "def loadData(filename):\n",
    "    data = pd.read_csv(filename, sep='\\s+', header=None)\n",
    "    data = data.as_matrix()\n",
    "    col, row = data.shape\n",
    "    X = np.c_[np.ones((col, 1)), data[:, 0: row-1]]\n",
    "    Y = data[:, row-1:row]\n",
    "    return X, Y"
   ]
  },
  {
   "cell_type": "code",
   "execution_count": 6,
   "metadata": {
    "collapsed": false
   },
   "outputs": [
    {
     "name": "stdout",
     "output_type": "stream",
     "text": [
      "X的前五项：\n",
      " [[ 1.        0.97681   0.10723   0.64385   0.29556 ]\n",
      " [ 1.        0.67194   0.2418    0.83075   0.42741 ]\n",
      " [ 1.        0.20619   0.23321   0.81004   0.98691 ]\n",
      " [ 1.        0.51583   0.055814  0.92274   0.75797 ]\n",
      " [ 1.        0.70893   0.10836   0.33951   0.77058 ]]\n",
      "Y的前五项: \n",
      " [[ 1.  1.  1.  1.  1.]]\n"
     ]
    }
   ],
   "source": [
    "# Q15-Q17导入数据项\n",
    "X, Y = loadData('hw1_15_train.dat')\n",
    "col, row = X.shape\n",
    "theta = np.zeros((row, 1))\n",
    "print('X的前五项：\\n',X[0:5, :])\n",
    "print('Y的前五项: \\n',Y[0:5,:].T)"
   ]
  },
  {
   "cell_type": "code",
   "execution_count": 7,
   "metadata": {
    "collapsed": true
   },
   "outputs": [],
   "source": [
    "# 感知机算法\n",
    "# 下述实现需注意：加入了一个prevpos变量，为了保证每次都先从当前数据的后面数据中寻找错误项\n",
    "#（这样的方式相比每次均从第一个数据开始寻找要更快速）\n",
    "def perceptron(X, Y, theta, eta=1):\n",
    "    num = 0; prevpos = 0\n",
    "    while(True):\n",
    "        yhat = np.sign(X.dot(theta))\n",
    "        yhat[np.where(yhat == 0)] = -1\n",
    "        index = np.where(yhat != Y)[0]\n",
    "        if not index.any():\n",
    "            break\n",
    "        if not index[index >= prevpos].any():\n",
    "            prevpos = 0\n",
    "        pos = index[index >= prevpos][0]\n",
    "        prevpos = pos\n",
    "        theta += eta*Y[pos, 0]*X[pos:pos+1, :].T\n",
    "        num += 1\n",
    "    return theta, num"
   ]
  },
  {
   "cell_type": "code",
   "execution_count": 8,
   "metadata": {
    "collapsed": false
   },
   "outputs": [
    {
     "name": "stdout",
     "output_type": "stream",
     "text": [
      "总共更新theta的次数： 39\n"
     ]
    }
   ],
   "source": [
    "# Q15的结果\n",
    "theta, num = perceptron(X, Y, theta)\n",
    "print('总共更新theta的次数：',num)"
   ]
  },
  {
   "cell_type": "code",
   "execution_count": 10,
   "metadata": {
    "collapsed": false
   },
   "outputs": [
    {
     "name": "stdout",
     "output_type": "stream",
     "text": [
      "2000次平均每次更新theta的次数： 39.806\n"
     ]
    }
   ],
   "source": [
    "# Q16的结果\n",
    "total = 0\n",
    "for i in range(2000):\n",
    "    theta = np.zeros((row, 1))\n",
    "    randpos = np.random.permutation(col)\n",
    "    Xrnd = X[randpos, :]\n",
    "    Yrnd = Y[randpos, 0:1]\n",
    "    _, num = perceptron(Xrnd, Yrnd, theta)\n",
    "    total += num\n",
    "print('2000次平均每次更新theta的次数：',total/2000)"
   ]
  },
  {
   "cell_type": "code",
   "execution_count": 11,
   "metadata": {
    "collapsed": false
   },
   "outputs": [
    {
     "name": "stdout",
     "output_type": "stream",
     "text": [
      "2000次平均每次更新theta的次数： 39.758\n"
     ]
    }
   ],
   "source": [
    "# Q17的结果\n",
    "total = 0\n",
    "for i in range(2000):\n",
    "    theta = np.zeros((row, 1))\n",
    "    randpos = np.random.permutation(col)\n",
    "    Xrnd = X[randpos, :]\n",
    "    Yrnd = Y[randpos, 0:1]\n",
    "    _, num = perceptron(Xrnd, Yrnd, theta, 0.5)\n",
    "    total += num\n",
    "print('2000次平均每次更新theta的次数：',total/2000)"
   ]
  },
  {
   "cell_type": "code",
   "execution_count": 15,
   "metadata": {
    "collapsed": true
   },
   "outputs": [],
   "source": [
    "# Q18-20导入数据\n",
    "X, Y = loadData('hw1_18_train.dat')\n",
    "Xtest, Ytest = loadData('hw1_18_test.dat')\n",
    "col, row = X.shape\n",
    "theta = np.zeros((row, 1))"
   ]
  },
  {
   "cell_type": "code",
   "execution_count": 16,
   "metadata": {
    "collapsed": true
   },
   "outputs": [],
   "source": [
    "# 在定义Pocket算法前，先引入错误率函数\n",
    "def mistake(yhat, y):\n",
    "    row, col = y.shape\n",
    "    return np.sum(yhat != y)/row"
   ]
  },
  {
   "cell_type": "code",
   "execution_count": 17,
   "metadata": {
    "collapsed": true
   },
   "outputs": [],
   "source": [
    "# Pocket算法\n",
    "def pocket(X, Y, theta, iternum, eta = 1):\n",
    "    yhat = np.sign(X.dot(theta))\n",
    "    yhat[np.where(yhat == 0)] = -1\n",
    "    errold = mistake(yhat, Y)\n",
    "    thetabest = np.zeros(theta.shape)\n",
    "    for t in range(iternum):\n",
    "        index = np.where(yhat != Y)[0]\n",
    "        if not index.any():\n",
    "            break\n",
    "        pos = index[np.random.permutation(len(index))[0]]\n",
    "        theta += eta * Y[pos, 0] * X[pos:pos + 1, :].T\n",
    "        yhat = np.sign(X.dot(theta))\n",
    "        yhat[np.where(yhat == 0)] = -1\n",
    "        errnow = mistake(yhat, Y)\n",
    "        if errnow < errold:\n",
    "            thetabest = theta.copy() # 这一步切勿弄错，如果直接thetabest=theta则会使两者指向同一块空间\n",
    "            errold = errnow\n",
    "    return thetabest, theta"
   ]
  },
  {
   "cell_type": "code",
   "execution_count": 19,
   "metadata": {
    "collapsed": false
   },
   "outputs": [
    {
     "name": "stdout",
     "output_type": "stream",
     "text": [
      "迭代次数为50时，theta_pocket情况下的测试集错误率： 0.132035\n"
     ]
    }
   ],
   "source": [
    "# Q18\n",
    "total = 0\n",
    "for i in range(2000):\n",
    "    theta = np.zeros((row, 1))\n",
    "    randpos = np.random.permutation(col)\n",
    "    Xrnd = X[randpos, :]\n",
    "    Yrnd = Y[randpos, 0:1]\n",
    "    theta, thetabad = pocket(Xrnd, Yrnd, theta, 50)\n",
    "    yhat = np.sign(Xtest.dot(theta))\n",
    "    yhat[np.where(yhat == 0)] = -1\n",
    "    err = mistake(yhat, Ytest)\n",
    "    total += err\n",
    "print('迭代次数为50时，theta_pocket情况下的测试集错误率：',total/2000)"
   ]
  },
  {
   "cell_type": "code",
   "execution_count": 20,
   "metadata": {
    "collapsed": false
   },
   "outputs": [
    {
     "name": "stdout",
     "output_type": "stream",
     "text": [
      "迭代次数为50时，theta_50情况下的测试集错误率： 0.354342\n"
     ]
    }
   ],
   "source": [
    "# Q19\n",
    "total = 0\n",
    "for i in range(2000):\n",
    "    theta = np.zeros((row, 1))\n",
    "    randpos = np.random.permutation(col)\n",
    "    Xrnd = X[randpos, :]\n",
    "    Yrnd = Y[randpos, 0:1]\n",
    "    theta, thetabad = pocket(Xrnd, Yrnd, theta, 50)\n",
    "    yhat = np.sign(Xtest.dot(thetabad))\n",
    "    yhat[np.where(yhat == 0)] = -1\n",
    "    err = mistake(yhat, Ytest)\n",
    "    total += err\n",
    "print('迭代次数为50时，theta_50情况下的测试集错误率：',total/2000)"
   ]
  },
  {
   "cell_type": "code",
   "execution_count": 21,
   "metadata": {
    "collapsed": false
   },
   "outputs": [
    {
     "name": "stdout",
     "output_type": "stream",
     "text": [
      "迭代次数为100时，theta_pocket情况下的测试集错误率： 0.11616\n"
     ]
    }
   ],
   "source": [
    "# Q20\n",
    "total = 0\n",
    "for i in range(2000):\n",
    "    theta = np.zeros((row, 1))\n",
    "    randpos = np.random.permutation(col)\n",
    "    Xrnd = X[randpos, :]\n",
    "    Yrnd = Y[randpos, 0:1]\n",
    "    theta, thetabad = pocket(Xrnd, Yrnd, theta, 100)\n",
    "    yhat = np.sign(Xtest.dot(theta))\n",
    "    yhat[np.where(yhat == 0)] = -1\n",
    "    err = mistake(yhat, Ytest)\n",
    "    total += err\n",
    "print('迭代次数为100时，theta_pocket情况下的测试集错误率：',total/2000)"
   ]
  }
 ],
 "metadata": {
  "kernelspec": {
   "display_name": "Python 2",
   "language": "python",
   "name": "python2"
  },
  "language_info": {
   "codemirror_mode": {
    "name": "ipython",
    "version": 2
   },
   "file_extension": ".py",
   "mimetype": "text/x-python",
   "name": "python",
   "nbconvert_exporter": "python",
   "pygments_lexer": "ipython2",
   "version": "2.7.13"
  }
 },
 "nbformat": 4,
 "nbformat_minor": 2
}

{
 "cells": [
  {
   "cell_type": "code",
   "execution_count": 57,
   "metadata": {
    "collapsed": true
   },
   "outputs": [],
   "source": [
    "import numpy as np\n",
    "import pandas as pd"
   ]
  },
  {
   "cell_type": "code",
   "execution_count": 58,
   "metadata": {
    "collapsed": false
   },
   "outputs": [],
   "source": [
    "def loadData(filename):\n",
    "    data = pd.read_csv(filename, sep='\\s+', header=None)\n",
    "    data = data.as_matrix()\n",
    "    row, col = data.shape\n",
    "    X = np.c_[np.ones([row,1]),data[:,0:-1]]\n",
    "    Y = data[:, -1].reshape((-1,1))\n",
    "    return X, Y"
   ]
  },
  {
   "cell_type": "code",
   "execution_count": 80,
   "metadata": {
    "collapsed": false
   },
   "outputs": [
    {
     "data": {
      "text/plain": [
       "array([[ 1.],\n",
       "       [ 1.],\n",
       "       [ 1.],\n",
       "       [ 1.],\n",
       "       [ 1.]])"
      ]
     },
     "execution_count": 80,
     "metadata": {},
     "output_type": "execute_result"
    }
   ],
   "source": [
    "# load data for Q15-17; initialize w\n",
    "X,Y = loadData('hw1_15_train.dat')\n",
    "row, col = X.shape\n",
    "w = np.zeros([col,1])\n",
    "Y[0:5]"
   ]
  },
  {
   "cell_type": "code",
   "execution_count": 79,
   "metadata": {
    "collapsed": true
   },
   "outputs": [],
   "source": [
    "# perceptron learning algorithm\n",
    "def pla(X,Y,w,eta=1):\n",
    "    num = 0; prev = 0\n",
    "    while True:\n",
    "        yhat = np.sign(X.dot(w))\n",
    "        yhat[np.where(yhat == 0)] = -1\n",
    "        index = np.where(yhat != Y)[0]\n",
    "        if len(index)==0:\n",
    "            break\n",
    "        if not index[index >= prev].any():\n",
    "            prev = 0\n",
    "        pos = index[index >= prev][0]\n",
    "        prev = pos\n",
    "        w +=  (eta*Y[pos]*X[pos]).reshape((-1,1))\n",
    "        num +=1\n",
    "    return w,num"
   ]
  },
  {
   "cell_type": "code",
   "execution_count": 81,
   "metadata": {
    "collapsed": false
   },
   "outputs": [
    {
     "data": {
      "text/plain": [
       "39"
      ]
     },
     "execution_count": 81,
     "metadata": {},
     "output_type": "execute_result"
    }
   ],
   "source": [
    "#Q15\n",
    "w,num = pla(X,Y,w)\n",
    "num"
   ]
  },
  {
   "cell_type": "code",
   "execution_count": 61,
   "metadata": {
    "collapsed": false
   },
   "outputs": [
    {
     "name": "stdout",
     "output_type": "stream",
     "text": [
      "average step is 39.865500\n"
     ]
    }
   ],
   "source": [
    "# Q16\n",
    "total = 0\n",
    "for i in range(2000):\n",
    "    w = np.zeros([col,1])\n",
    "    randpos = np.random.permutation(row)\n",
    "    X_r = X[randpos, :]\n",
    "    Y_r = Y[randpos, :]\n",
    "    w_r, num = pla(X_r, Y_r, w)\n",
    "    total += num\n",
    "print 'average step is %f' % (float(total)/2000)"
   ]
  },
  {
   "cell_type": "code",
   "execution_count": 43,
   "metadata": {
    "collapsed": false
   },
   "outputs": [
    {
     "name": "stdout",
     "output_type": "stream",
     "text": [
      "average step is 40.004000\n"
     ]
    }
   ],
   "source": [
    "# Q17\n",
    "total = 0\n",
    "for i in range(2000):\n",
    "    w = np.zeros([col,1])\n",
    "    randpos = np.random.permutation(row)\n",
    "    X_r = X[randpos, :]\n",
    "    Y_r = Y[randpos, :]\n",
    "    w_r, num = pla(X_r, Y_r, w, eta=0.5)\n",
    "    total += num\n",
    "print 'average step is %f' % (float(total)/2000)"
   ]
  },
  {
   "cell_type": "code",
   "execution_count": 67,
   "metadata": {
    "collapsed": false
   },
   "outputs": [
    {
     "data": {
      "text/plain": [
       "array([[ 0.],\n",
       "       [ 0.],\n",
       "       [ 0.],\n",
       "       [ 0.],\n",
       "       [ 0.]])"
      ]
     },
     "execution_count": 67,
     "metadata": {},
     "output_type": "execute_result"
    }
   ],
   "source": [
    "#Q18-20 loaddata\n",
    "X, Y = loadData('hw1_18_train.dat')\n",
    "Xtest, Ytest = loadData('hw1_18_test.dat')\n",
    "row, col = X.shape\n",
    "w = np.zeros((col, 1))\n",
    "w"
   ]
  },
  {
   "cell_type": "code",
   "execution_count": 70,
   "metadata": {
    "collapsed": true
   },
   "outputs": [],
   "source": [
    "# 在定义Pocket算法前，先引入错误率函数\n",
    "def error_rate(yhat, y):\n",
    "    row, col = y.shape\n",
    "    return float(np.sum(yhat != y))/row"
   ]
  },
  {
   "cell_type": "code",
   "execution_count": 74,
   "metadata": {
    "collapsed": true
   },
   "outputs": [],
   "source": [
    "# Pocket algorithm\n",
    "def pocket(X, Y, w, iternum):\n",
    "    \n",
    "    yhat = np.sign(X.dot(w))\n",
    "    yhat[np.where(yhat == 0)] = -1\n",
    "    error_current = error_rate(yhat, Y)\n",
    "    w_best = np.zeros((col, 1))\n",
    "    for i in range(iternum):\n",
    "        index = np.where(yhat != Y)[0]\n",
    "        if not index.any():\n",
    "            break\n",
    "        pos = np.random.choice(index,1)\n",
    "        w += (Y[pos,:]*X[pos,:]).reshape((-1,1))\n",
    "        yhat = np.sign(X.dot(w))\n",
    "        yhat[np.where(yhat == 0)] = -1\n",
    "        error_update = error_rate (yhat, Y)\n",
    "        if error_update < error_current:\n",
    "            error_current = error_update\n",
    "            w_best = w.copy() # Attention: w_best = w implies w50 rather than the greedy pocket\n",
    "    return w_best,w # w is the desired parameter for evaluate w 50 times without comparing the errors\n",
    "    \n",
    "    "
   ]
  },
  {
   "cell_type": "code",
   "execution_count": 71,
   "metadata": {
    "collapsed": false
   },
   "outputs": [
    {
     "data": {
      "text/plain": [
       "0.39"
      ]
     },
     "execution_count": 71,
     "metadata": {},
     "output_type": "execute_result"
    }
   ],
   "source": [
    "yhat = np.sign(X.dot(w))\n",
    "yhat[np.where(yhat == 0)] = -1\n",
    "error_current = error_rate(yhat, Y)\n",
    "error_current"
   ]
  },
  {
   "cell_type": "code",
   "execution_count": 72,
   "metadata": {
    "collapsed": false
   },
   "outputs": [
    {
     "data": {
      "text/plain": [
       "0.11"
      ]
     },
     "execution_count": 72,
     "metadata": {},
     "output_type": "execute_result"
    }
   ],
   "source": [
    "w = np.zeros((col,1))\n",
    "randpos = np.random.permutation(row)\n",
    "X_r = X[randpos,:]\n",
    "Y_r = Y[randpos,:]\n",
    "w_best,w = pocket (X_r, Y_r, w, 50)\n",
    "yhat = np.sign(Xtest.dot(w_best))\n",
    "yhat[np.where(yhat == 0)] = -1\n",
    "error = error_rate(yhat, Ytest)\n",
    "error"
   ]
  },
  {
   "cell_type": "code",
   "execution_count": 77,
   "metadata": {
    "collapsed": false
   },
   "outputs": [
    {
     "name": "stdout",
     "output_type": "stream",
     "text": [
      "average error is 0.133092\n"
     ]
    }
   ],
   "source": [
    "# Q18\n",
    "total = 0 \n",
    "for i in range(2000):\n",
    "    w = np.zeros((col,1))\n",
    "#    randpos = np.random.permutation(row)\n",
    "#    X_r = X[randpos,:]\n",
    "#    Y_r = Y[randpos,:]\n",
    "    w_best,w = pocket (X, Y, w, 50)\n",
    "    yhat = np.sign(Xtest.dot(w_best))\n",
    "    yhat[np.where(yhat == 0)] = -1\n",
    "    error = error_rate(yhat, Ytest)\n",
    "    total += error\n",
    "print 'average error is %f' %(float(total/2000))\n",
    "    "
   ]
  },
  {
   "cell_type": "code",
   "execution_count": 76,
   "metadata": {
    "collapsed": false
   },
   "outputs": [
    {
     "name": "stdout",
     "output_type": "stream",
     "text": [
      "average error is 0.359862\n"
     ]
    }
   ],
   "source": [
    "# Q19\n",
    "total = 0 \n",
    "for i in range(2000):\n",
    "    w = np.zeros((col,1))\n",
    "    randpos = np.random.permutation(row)\n",
    "    X_r = X[randpos,:]\n",
    "    Y_r = Y[randpos,:]\n",
    "    w_best,w = pocket (X_r, Y_r, w, 50)\n",
    "    yhat = np.sign(Xtest.dot(w))\n",
    "    yhat[np.where(yhat == 0)] = -1\n",
    "    error = error_rate(yhat, Ytest)\n",
    "    total += error\n",
    "print 'average error is %f' %(float(total/2000))\n",
    "    "
   ]
  },
  {
   "cell_type": "code",
   "execution_count": 78,
   "metadata": {
    "collapsed": false
   },
   "outputs": [
    {
     "name": "stdout",
     "output_type": "stream",
     "text": [
      "average error is 0.116053\n"
     ]
    }
   ],
   "source": [
    "#Q20\n",
    "total = 0 \n",
    "for i in range(2000):\n",
    "    w = np.zeros((col,1))\n",
    "#    randpos = np.random.permutation(row)\n",
    "#    X_r = X[randpos,:]\n",
    "#    Y_r = Y[randpos,:]\n",
    "    w_best,w = pocket (X, Y, w, 100)\n",
    "    yhat = np.sign(Xtest.dot(w_best))\n",
    "    yhat[np.where(yhat == 0)] = -1\n",
    "    error = error_rate(yhat, Ytest)\n",
    "    total += error\n",
    "print 'average error is %f' %(float(total/2000))"
   ]
  }
 ],
 "metadata": {
  "kernelspec": {
   "display_name": "Python 2",
   "language": "python",
   "name": "python2"
  },
  "language_info": {
   "codemirror_mode": {
    "name": "ipython",
    "version": 2
   },
   "file_extension": ".py",
   "mimetype": "text/x-python",
   "name": "python",
   "nbconvert_exporter": "python",
   "pygments_lexer": "ipython2",
   "version": "2.7.13"
  }
 },
 "nbformat": 4,
 "nbformat_minor": 2
}

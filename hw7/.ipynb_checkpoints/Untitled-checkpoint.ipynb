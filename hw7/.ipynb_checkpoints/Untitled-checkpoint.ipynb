{
 "cells": [
  {
   "cell_type": "code",
   "execution_count": 1,
   "metadata": {
    "collapsed": true
   },
   "outputs": [],
   "source": [
    "import numpy as np\n",
    "import pandas as pd"
   ]
  },
  {
   "cell_type": "code",
   "execution_count": 2,
   "metadata": {
    "collapsed": true
   },
   "outputs": [],
   "source": [
    "# define nodes\n",
    "class Node:\n",
    "    def __init__(self, theta, index, value=None):\n",
    "        self.theta = theta\n",
    "        self.index = index\n",
    "        self.value = value\n",
    "        self.leftNode = None\n",
    "        self.rightNode = None    "
   ]
  },
  {
   "cell_type": "code",
   "execution_count": 3,
   "metadata": {
    "collapsed": true
   },
   "outputs": [],
   "source": [
    "# def gini index\n",
    "def gini(Y):\n",
    "    l = Y.shape[0]\n",
    "    if l == 0:\n",
    "        return 1\n",
    "    return 1-(float(np.sum(Y==1))/l)**2-(float(np.sum(Y==-1))/l)**2"
   ]
  },
  {
   "cell_type": "code",
   "execution_count": 4,
   "metadata": {
    "collapsed": true
   },
   "outputs": [],
   "source": [
    "# def one d stump\n",
    "def one_stump(X, Y, thres):\n",
    "    l = thres.shape[0]\n",
    "    mini = Y.shape[0]\n",
    "    for i in range(l):\n",
    "        Y1 = Y[X<thres[i]]\n",
    "        Y2 = Y[X>=thres[i]]\n",
    "        judge = Y1.shape[0]*gini(Y1)+Y2.shape[0]*gini(Y2)\n",
    "        if mini>judge:\n",
    "            mini = judge; b = thres[i]\n",
    "    return mini,b"
   ]
  },
  {
   "cell_type": "code",
   "execution_count": 5,
   "metadata": {
    "collapsed": true
   },
   "outputs": [],
   "source": [
    "# find decision stump across all dimensions\n",
    "def decision_stump(X, Y):\n",
    "    row, col = X.shape\n",
    "    Xsort = np.sort(X, 0)\n",
    "    thres = (np.r_[Xsort[0:1, :]-0.1, Xsort]+np.r_[Xsort, Xsort[-1:, :]+0.1])/2\n",
    "    mpurity = row; mb = 0; index = 0\n",
    "    for i in range(col):\n",
    "        purity, b = one_stump(X[:,i], Y[:,0], thres[:,i])\n",
    "        if mpurity > purity:\n",
    "            mpurity = purity; mb = b; index = i\n",
    "    return mb, index"
   ]
  },
  {
   "cell_type": "code",
   "execution_count": 6,
   "metadata": {
    "collapsed": true
   },
   "outputs": [],
   "source": [
    "# def stop condition to each node(?):\n",
    "def stop_cond(X, Y):\n",
    "    if np.sum(Y!=Y[0]) == 0 or X.shape[0] == 1 or np.sum(X!= X[0,:]) == 0:\n",
    "        return True\n",
    "    return False"
   ]
  },
  {
   "cell_type": "code",
   "execution_count": 7,
   "metadata": {
    "collapsed": true
   },
   "outputs": [],
   "source": [
    "# fully grown tree\n",
    "# Recursive\n",
    "def dTree(X, Y):\n",
    "    if stop_cond(X, Y):\n",
    "        node = Node(None, None, Y[0])\n",
    "        return node\n",
    "    b, index = decision_stump(X, Y)\n",
    "    pos1 = X[:, index]<b; pos2 = X[:, index]>= b\n",
    "    leftX = X[pos1, :]; leftY = Y[pos1, 0:1]\n",
    "    rightX = X[pos2, :]; rightY = Y[pos2, 0:1]\n",
    "    node = Node(b, index)\n",
    "    node.leftNode = dTree(leftX, leftY)\n",
    "    node.rightNode = dTree(rightX, rightY)\n",
    "    return node"
   ]
  },
  {
   "cell_type": "code",
   "execution_count": 8,
   "metadata": {
    "collapsed": true
   },
   "outputs": [],
   "source": [
    "# Tree with one layer of decision / extreme pruning\n",
    "def dTree_one(X, Y):\n",
    "    b, index = decision_stump(X, Y)\n",
    "    pos1 = X[:, index] < b; pos2 = X[:, index] >= b\n",
    "    node = Node(b, index)\n",
    "    value1 = 1 if np.sign(np.sum(Y[pos1]))>=0 else -1\n",
    "    value2 = 1 if np.sign(np.sum(Y[pos2]))>=0 else -1\n",
    "    node.leftNode = Node(None, None, np.array([value1]))\n",
    "    node.rightNode = Node(None, None, np.array([value2]))\n",
    "    return node"
   ]
  },
  {
   "cell_type": "code",
   "execution_count": 9,
   "metadata": {
    "collapsed": true
   },
   "outputs": [],
   "source": [
    "# Prediction of ONE sample\n",
    "def predict_one(node, X):\n",
    "    if node.value is not None:\n",
    "        return node.value[0]\n",
    "    thre = node.theta; index = node.index\n",
    "    if X[index] < thre:\n",
    "        return predict_one(node.leftNode, X)\n",
    "    else:\n",
    "        return predict_one(node.rightNode, X)"
   ]
  },
  {
   "cell_type": "code",
   "execution_count": 10,
   "metadata": {
    "collapsed": true
   },
   "outputs": [],
   "source": [
    "# error function\n",
    "def err_fun(X, Y, node):\n",
    "    row, col = X.shape\n",
    "    Yhat = np.zeros(Y.shape)\n",
    "    for i in range(row):\n",
    "        Yhat[i] = predict_one(node, X[i, :])\n",
    "    return Yhat, float(np.sum(Yhat != Y))/row"
   ]
  },
  {
   "cell_type": "code",
   "execution_count": 11,
   "metadata": {
    "collapsed": true
   },
   "outputs": [],
   "source": [
    "# bagging\n",
    "def bagging(X, Y):\n",
    "    row, col = X.shape\n",
    "    pos = np.random.randint(0, row, (row,))\n",
    "    return X[pos, :], Y[pos, :]"
   ]
  },
  {
   "cell_type": "code",
   "execution_count": 12,
   "metadata": {
    "collapsed": true
   },
   "outputs": [],
   "source": [
    "# random forest only on samples:\n",
    "def random_forest(X, Y, T):\n",
    "    nodeArr = []\n",
    "    for i in range(T):\n",
    "        Xtemp, Ytemp = bagging(X, Y)\n",
    "        node = dTree(Xtemp, Ytemp)\n",
    "        nodeArr.append(node)\n",
    "    return nodeArr"
   ]
  },
  {
   "cell_type": "code",
   "execution_count": 13,
   "metadata": {
    "collapsed": true
   },
   "outputs": [],
   "source": [
    "# pruned random forest\n",
    "\n",
    "def random_forest_pruned(X, Y, T):\n",
    "    nodeArr = []\n",
    "    for i in range(T):\n",
    "        Xtemp, Ytemp = bagging(X, Y)\n",
    "        node = dTree_one(Xtemp, Ytemp)\n",
    "        nodeArr.append(node)\n",
    "    return nodeArr"
   ]
  },
  {
   "cell_type": "code",
   "execution_count": 14,
   "metadata": {
    "collapsed": true
   },
   "outputs": [],
   "source": [
    "# ----------------Questions-------------------\n",
    "# loaddata\n",
    "def loaddata(filename):\n",
    "    data = pd.read_csv(filename, sep='\\s+', header=None)\n",
    "    data = data.as_matrix()\n",
    "    row, col = data.shape\n",
    "    X = data[:, 0:col-1]\n",
    "    Y = data[:, col-1:col]\n",
    "    return X, Y"
   ]
  },
  {
   "cell_type": "code",
   "execution_count": 15,
   "metadata": {
    "collapsed": true
   },
   "outputs": [],
   "source": [
    "#load data\n",
    "X, Y = loaddata('hw3_train.dat')\n",
    "Xtest, Ytest = loaddata('hw3_test.dat')"
   ]
  },
  {
   "cell_type": "code",
   "execution_count": 16,
   "metadata": {
    "collapsed": false
   },
   "outputs": [
    {
     "name": "stdout",
     "output_type": "stream",
     "text": [
      "number of internal nodes: 10\n"
     ]
    }
   ],
   "source": [
    "# Q13\n",
    "# 定义一个搜索树有多少结点的函数---叶子结点不计入\n",
    "\n",
    "def internal_node(node):\n",
    "    if node == None:\n",
    "        return 0\n",
    "    if node.leftNode == None and node.rightNode == None:\n",
    "        return 0\n",
    "    l = 0; r = 0\n",
    "    if node.leftNode != None:\n",
    "        l = internal_node(node.leftNode)\n",
    "    if node.rightNode != None:\n",
    "        r = internal_node(node.rightNode)\n",
    "    return 1+l+r\n",
    "node = dTree(X, Y)\n",
    "print 'number of internal nodes:', internal_node(node)"
   ]
  },
  {
   "cell_type": "code",
   "execution_count": 18,
   "metadata": {
    "collapsed": false
   },
   "outputs": [
    {
     "name": "stdout",
     "output_type": "stream",
     "text": [
      "Ein: 0.0 \n",
      "Eout: 0.126\n"
     ]
    }
   ],
   "source": [
    "\n",
    "# Q14 Q15\n",
    "hat1, ein = err_fun(X, Y, node)\n",
    "hat2, eout = err_fun(Xtest, Ytest, node)\n",
    "print 'Ein:', ein, '\\nEout:', eout"
   ]
  }
 ],
 "metadata": {
  "kernelspec": {
   "display_name": "Python 2",
   "language": "python",
   "name": "python2"
  },
  "language_info": {
   "codemirror_mode": {
    "name": "ipython",
    "version": 2
   },
   "file_extension": ".py",
   "mimetype": "text/x-python",
   "name": "python",
   "nbconvert_exporter": "python",
   "pygments_lexer": "ipython2",
   "version": "2.7.13"
  }
 },
 "nbformat": 4,
 "nbformat_minor": 2
}

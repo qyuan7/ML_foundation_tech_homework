{
 "cells": [
  {
   "cell_type": "code",
   "execution_count": 1,
   "metadata": {
    "collapsed": true
   },
   "outputs": [],
   "source": [
    "import numpy as np\n",
    "import pandas as pd\n",
    "import scipy.linalg as lin"
   ]
  },
  {
   "cell_type": "code",
   "execution_count": 2,
   "metadata": {
    "collapsed": true
   },
   "outputs": [],
   "source": [
    "#load data\n",
    "def loaddata(filename):\n",
    "    data = pd.read_csv(filename, sep='\\s+', header=None)\n",
    "    data = data.as_matrix()\n",
    "    row, col = data.shape\n",
    "    X = data[:, 0:col-1]#decision stump does not need x0\n",
    "    Y = data[:, col-1:col]\n",
    "    return X, Y"
   ]
  },
  {
   "cell_type": "code",
   "execution_count": 3,
   "metadata": {
    "collapsed": true
   },
   "outputs": [],
   "source": [
    "# decison stump\n",
    "def decision_stump(X, Y, thres, U): # thres can be defined on all cols, defining outside stump can save cost, U:weight\n",
    "    row, col = X.shape\n",
    "    r, c = thres.shape; besterr = 1\n",
    "    btheta = 0; bs = 0; index = 0\n",
    "    for i in range(col):\n",
    "        Yhat1 = np.sign(np.tile(X[:, i:i+1], (1, r)).T-thres[:, i:i+1]).T\n",
    "        err1 = (Yhat1 != Y).T.dot(U) # Should return r*1 results, the error for each thres is the sum of error over all X within thres\n",
    "        err2 = (-1*Yhat1 != Y).T.dot(U)# reason for .Ts: shape of Y is m * 1\n",
    "        if np.min(err1) < np.min(err2):\n",
    "            s = 1\n",
    "        else:\n",
    "            s = -1\n",
    "        if s == 1 and np.min(err1) < besterr:\n",
    "            besterr = np.min(err1); bs =1\n",
    "            index = i; btheta = thres[np.argmin(err1),i]\n",
    "        if s == -1 and np.min(err2) < besterr:\n",
    "            besterr = np.min(err2); bs = -1\n",
    "            index = i; btheta = thres[np.argmin(err2), i]\n",
    "    return besterr, btheta, bs, index # return one best stump on one of the features."
   ]
  },
  {
   "cell_type": "code",
   "execution_count": 5,
   "metadata": {
    "collapsed": true
   },
   "outputs": [],
   "source": [
    "def ada_boost(X, Y, T):\n",
    "    row, col = X.shape\n",
    "    U = np.ones((row, 1))/row\n",
    "    Xsort = np.sort(X, 0)\n",
    "    thres = (np.r_[Xsort[0:1,:]-0.1, Xsort[0:row-1,:]] + Xsort)/2\n",
    "    theta = np.zeros((T,)); s = np.zeros((T,))\n",
    "    index = np.zeros((T,)).astype(int); alpha = np.zeros((T,))\n",
    "    err = np.zeros((T,)) # each iteration has a theta, index, alpha, err\n",
    "    for i in range(T):\n",
    "        err[i], theta[i], s[i], index[i] = decision_stump(X, Y, thres, U)\n",
    "        yhat = s[i]*np.sign(X[:, index[i]:index[i]+1] - theta[i])\n",
    "        delta = np.sqrt((1-err[i])/err[i])\n",
    "        U[yhat == Y] /= delta\n",
    "        U[yhat != Y] *= delta\n",
    "        alpha[i] = np.log(delta)\n",
    "        U /= np.sum(U)\n",
    "    return theta, index, s, alpha"
   ]
  },
  {
   "cell_type": "code",
   "execution_count": 6,
   "metadata": {
    "collapsed": true
   },
   "outputs": [],
   "source": [
    "# generate prediction\n",
    "def predict(X, theta, index, s, alpha):\n",
    "    row, col = X.shape\n",
    "    num = len(theta)\n",
    "    ytemp = np.tile(s.reshape((1, num)),(row,1))*np.sign(X[:, index]-theta.reshape((1,num)))#selecting multiple cols in array\n",
    "    yhat = np.sign(ytemp.dot(alpha.reshape(num,1)))\n",
    "    return yhat"
   ]
  },
  {
   "cell_type": "code",
   "execution_count": 7,
   "metadata": {
    "collapsed": false
   },
   "outputs": [],
   "source": [
    "#load data\n",
    "X, Y = loaddata('hw2_adaboost_train.dat')\n",
    "Xtest, Ytest = loaddata('hw2_adaboost_test.dat')\n",
    "row, col = X.shape\n",
    "r, c = Xtest.shape\n"
   ]
  },
  {
   "cell_type": "code",
   "execution_count": 8,
   "metadata": {
    "collapsed": false
   },
   "outputs": [
    {
     "name": "stdout",
     "output_type": "stream",
     "text": [
      "24\n",
      "Ein(g1)： 0.24\n"
     ]
    }
   ],
   "source": [
    "#Q12\n",
    "theta, index, s, alpha = ada_boost(X, Y, 1)\n",
    "Ypred = predict(X, theta, index, s, alpha)\n",
    "print np.sum(Ypred != Y)\n",
    "print 'Ein(g1)：', float(np.sum(Ypred !=Y))/row"
   ]
  },
  {
   "cell_type": "code",
   "execution_count": 9,
   "metadata": {
    "collapsed": false
   },
   "outputs": [
    {
     "name": "stdout",
     "output_type": "stream",
     "text": [
      "0\n",
      "Ein(G)： 0.0\n"
     ]
    }
   ],
   "source": [
    "# Q13\n",
    "theta, index, s, alpha = ada_boost(X, Y, 300)\n",
    "Ypred = predict(X, theta, index, s, alpha)\n",
    "print np.sum(Ypred != Y)\n",
    "print 'Ein(G)：', float(np.sum(Ypred!=Y))/row"
   ]
  },
  {
   "cell_type": "code",
   "execution_count": 49,
   "metadata": {
    "collapsed": false
   },
   "outputs": [
    {
     "name": "stdout",
     "output_type": "stream",
     "text": [
      "(100L, 2L)\n",
      "(100L, 2L)\n",
      "('sum(U): ', 0.85416626016250508)\n"
     ]
    }
   ],
   "source": [
    "# Q14\n",
    "theta, index, s, alpha = ada_boost(X, Y, 1)"
   ]
  },
  {
   "cell_type": "code",
   "execution_count": 50,
   "metadata": {
    "collapsed": false
   },
   "outputs": [
    {
     "name": "stdout",
     "output_type": "stream",
     "text": [
      "(100L, 2L)\n",
      "(100L, 2L)\n",
      "('sum(U): ', 0.98835570147308793)\n"
     ]
    }
   ],
   "source": [
    "# Q16\n",
    "theta, index, s, alpha = ada_boost(X, Y, 300)"
   ]
  },
  {
   "cell_type": "code",
   "execution_count": 59,
   "metadata": {
    "collapsed": false
   },
   "outputs": [
    {
     "name": "stdout",
     "output_type": "stream",
     "text": [
      "Eout(g1)： 0.29\n"
     ]
    }
   ],
   "source": [
    "# Q17\n",
    "theta, index, s, alpha = ada_boost(X, Y, 1)\n",
    "Ypred = predict(Xtest, theta, index, s, alpha)\n",
    "print 'Eout(g1)：', float(np.sum(Ypred!=Ytest))/r"
   ]
  },
  {
   "cell_type": "code",
   "execution_count": 60,
   "metadata": {
    "collapsed": false
   },
   "outputs": [
    {
     "name": "stdout",
     "output_type": "stream",
     "text": [
      "Eout(G): 0.132\n"
     ]
    }
   ],
   "source": [
    "# Q18\n",
    "theta, index, s, alpha = ada_boost(X, Y, 300)\n",
    "Ypred = predict(Xtest, theta, index, s, alpha)\n",
    "print 'Eout(G):', float(np.sum(Ypred!=Ytest))/r"
   ]
  },
  {
   "cell_type": "code",
   "execution_count": 17,
   "metadata": {
    "collapsed": true
   },
   "outputs": [],
   "source": [
    "# Q19 and Q20\n",
    "# define kernel\n",
    "def matK(X1, X2, gamma):\n",
    "    row, col = X1.shape\n",
    "    r, c = X2.shape\n",
    "    K = np.zeros((row, r)) # shape of kernel m*m\n",
    "    for i in range(r):\n",
    "        K[:, i] = np.sum((X1-X2[i:i+1, :])**2, 1)\n",
    "    K = np.exp(-gamma*K)\n",
    "    return K"
   ]
  },
  {
   "cell_type": "code",
   "execution_count": 64,
   "metadata": {
    "collapsed": true
   },
   "outputs": [],
   "source": [
    "# define kernel\n",
    "def matK(X1, X2, gamma):\n",
    "    row, col = X1.shape\n",
    "    r, c = X2.shape\n",
    "    K = np.zeros((row, r))\n",
    "    for i in range(r):\n",
    "        K[:, i] = np.sum((X1-X2[i:i+1, :])**2,1)\n",
    "    K = np.exp(-gamma*K)\n",
    "    return K"
   ]
  },
  {
   "cell_type": "code",
   "execution_count": 65,
   "metadata": {
    "collapsed": false
   },
   "outputs": [],
   "source": [
    "#load data\n",
    "X, Y = loaddata('hw2_lssvm_all.dat')\n",
    "Xtrain = X[0:400, :]; Ytrain = Y[0:400, :]\n",
    "Xtest = X[400:, :]; Ytest = Y[400:, :]\n",
    "row, col = Xtest.shape"
   ]
  },
  {
   "cell_type": "code",
   "execution_count": 66,
   "metadata": {
    "collapsed": false
   },
   "outputs": [
    {
     "name": "stdout",
     "output_type": "stream",
     "text": [
      "minimum Ein: 0.0\n",
      "minimum Eout: 0.39\n"
     ]
    }
   ],
   "source": [
    "#Q19 and Q20 solution:\n",
    "gamma = [32, 2, 0.125]\n",
    "lamb = [0.001, 1, 1000]\n",
    "Ein = np.zeros((len(gamma), len(lamb)))\n",
    "Eout = np.zeros((len(gamma), len(lamb)))\n",
    "for i in range(len(gamma)):\n",
    "    K = matK(Xtrain, Xtrain, gamma[i])\n",
    "    Ktest = matK(Xtrain, Xtest, gamma[i])\n",
    "    for j in range(len(lamb)):\n",
    "        beta = lin.pinv(lamb[j]*np.eye(400)+K).dot(Ytrain)\n",
    "        yhat = np.sign(K.dot(beta))\n",
    "        Ein[i, j] = float(np.sum(yhat != Ytrain))/400\n",
    "        yhat2 = np.sign(Ktest.T.dot(beta))\n",
    "        Eout[i, j] = float(np.sum(yhat2 != Ytest))/row\n",
    "print 'minimum Ein:',np.min(Ein)\n",
    "print 'minimum Eout:', np.min(Eout)"
   ]
  }
 ],
 "metadata": {
  "anaconda-cloud": {},
  "kernelspec": {
   "display_name": "Python [conda root]",
   "language": "python",
   "name": "conda-root-py"
  },
  "language_info": {
   "codemirror_mode": {
    "name": "ipython",
    "version": 2
   },
   "file_extension": ".py",
   "mimetype": "text/x-python",
   "name": "python",
   "nbconvert_exporter": "python",
   "pygments_lexer": "ipython2",
   "version": "2.7.12"
  }
 },
 "nbformat": 4,
 "nbformat_minor": 1
}

{
 "cells": [
  {
   "cell_type": "code",
   "execution_count": 1,
   "metadata": {
    "collapsed": true
   },
   "outputs": [],
   "source": [
    "import numpy as np\n",
    "import pandas as pd\n",
    "import math\n",
    "import scipy.linalg as lin\n",
    "import matplotlib.pyplot as plt"
   ]
  },
  {
   "cell_type": "code",
   "execution_count": 2,
   "metadata": {
    "collapsed": true
   },
   "outputs": [],
   "source": [
    "#generate data for q13\n",
    "def generatedata(num):\n",
    "    X1 = np.random.uniform(-1, 1, num)\n",
    "    X2 = np.random.uniform(-1, 1, num)\n",
    "    Xtemp = np.c_[X1,X2]\n",
    "    X = np.c_[np.ones((num, 1)), Xtemp]\n",
    "    #X = np.c_[np.ones((num, 1)), Xtemp]\n",
    "    Ytemp = np.sign(X1**2+ X2**2 - 0.6)\n",
    "    Ytemp[Ytemp==0] = -1\n",
    "    pos = np.random.permutation(num)\n",
    "    alter = pos[0: round(0.1*num)]\n",
    "    Ytemp[alter] *= -1\n",
    "    Y = Ytemp.reshape(num,1)\n",
    "    return X, Y"
   ]
  },
  {
   "cell_type": "code",
   "execution_count": 17,
   "metadata": {
    "collapsed": false
   },
   "outputs": [
    {
     "name": "stderr",
     "output_type": "stream",
     "text": [
      "/home/qyuan/anaconda2/lib/python2.7/site-packages/ipykernel/__main__.py:11: VisibleDeprecationWarning: using a non-integer number instead of an integer will result in an error in the future\n"
     ]
    },
    {
     "name": "stdout",
     "output_type": "stream",
     "text": [
      "Ein :0.506161\n"
     ]
    }
   ],
   "source": [
    "total_err = 0\n",
    "for i in range(1000):\n",
    "    X, Y = generatedata(1000)\n",
    "    theta = lin.pinv(X.T.dot(X)).dot(X.T).dot(Y)\n",
    "    ypred = np.sign(X.dot(theta))\n",
    "    ypred[ypred==0] = -1\n",
    "    err = float(np.sum(ypred != Y))/1000\n",
    "    total_err += err\n",
    "final_err = total_err/1000\n",
    "print 'Ein :%s'%(final_err)"
   ]
  },
  {
   "cell_type": "code",
   "execution_count": 19,
   "metadata": {
    "collapsed": false
   },
   "outputs": [],
   "source": [
    "def transform(X):\n",
    "    row, col = X.shape\n",
    "    Xt = np.zeros((row,6))\n",
    "    Xt[:,0:col] = X\n",
    "    Xt[:,col] = X[:,1]*X[:,2]\n",
    "    Xt[:,col+1] = X[:,1]**2\n",
    "    Xt[:,col+2] = X[:,2]**2   \n",
    "    return Xt"
   ]
  },
  {
   "cell_type": "code",
   "execution_count": 23,
   "metadata": {
    "collapsed": false
   },
   "outputs": [
    {
     "name": "stderr",
     "output_type": "stream",
     "text": [
      "/home/qyuan/anaconda2/lib/python2.7/site-packages/ipykernel/__main__.py:11: VisibleDeprecationWarning: using a non-integer number instead of an integer will result in an error in the future\n"
     ]
    },
    {
     "name": "stdout",
     "output_type": "stream",
     "text": [
      "theta:  [[-1.00572406 -0.0583234  -0.02980545 -0.028981    1.50194679  1.6004872 ]]\n",
      "Eout: 0.126162\n"
     ]
    }
   ],
   "source": [
    "#Q14\n",
    "total_err = 0\n",
    "for i in range(1000):\n",
    "    X, Y = generatedata(1000)\n",
    "    Xtrain = transform(X)\n",
    "    theta = lin.pinv(Xtrain.T.dot(Xtrain)).dot(Xtrain.T).dot(Y)\n",
    "    Xtest, Ytest = generatedata(1000)\n",
    "    Xtest_t = transform(Xtest)\n",
    "    ypred = np.sign(Xtest_t.dot(theta))\n",
    "    err = float(np.sum(ypred != Ytest))/1000\n",
    "    total_err += err\n",
    "print 'theta: ', theta.T\n",
    "print 'Eout:', total_err/1000\n"
   ]
  },
  {
   "cell_type": "code",
   "execution_count": 205,
   "metadata": {
    "collapsed": true
   },
   "outputs": [],
   "source": [
    "#sigmoid function\n",
    "def sigmoid(x):\n",
    "    return 1/(1+np.exp(-x))"
   ]
  },
  {
   "cell_type": "code",
   "execution_count": 6,
   "metadata": {
    "collapsed": false
   },
   "outputs": [
    {
     "data": {
      "text/plain": [
       "0.2689414213699951"
      ]
     },
     "execution_count": 6,
     "metadata": {},
     "output_type": "execute_result"
    }
   ],
   "source": []
  },
  {
   "cell_type": "code",
   "execution_count": 206,
   "metadata": {
    "collapsed": true
   },
   "outputs": [],
   "source": [
    "# load data\n",
    "def loaddata(filename):\n",
    "    data = pd.read_csv(filename, sep='\\s+', header=None)\n",
    "    data = data.as_matrix()\n",
    "    row, col = data.shape\n",
    "    X = np.c_[np.ones((row,1)), data[:, 0:-1]]\n",
    "    Y = data[:, -1]\n",
    "    return X, Y"
   ]
  },
  {
   "cell_type": "code",
   "execution_count": 130,
   "metadata": {
    "collapsed": true
   },
   "outputs": [],
   "source": [
    "# 导入数据函数\n",
    "def loadData(filename):\n",
    "    data = pd.read_csv(filename, sep='\\s+', header=None)\n",
    "    data = data.as_matrix()\n",
    "    col, row = data.shape\n",
    "    X = np.c_[np.ones((col, 1)), data[:, 0: row-1]]\n",
    "    Y = data[:, row-1:row]\n",
    "    return X, Y"
   ]
  },
  {
   "cell_type": "code",
   "execution_count": 57,
   "metadata": {
    "collapsed": false
   },
   "outputs": [
    {
     "data": {
      "text/plain": [
       "1000"
      ]
     },
     "execution_count": 57,
     "metadata": {},
     "output_type": "execute_result"
    }
   ],
   "source": [
    "x,y = loaddata('hw3_train.dat')\n",
    "m = y.reshape((-1,1))\n",
    "n = m.T.dot(x)\n",
    "len(y)"
   ]
  },
  {
   "cell_type": "code",
   "execution_count": 230,
   "metadata": {
    "collapsed": false
   },
   "outputs": [],
   "source": [
    "# logistic regression\n",
    "def logistic(X, Y, eta, iternum, sgd = 0):\n",
    "    row, col = X.shape\n",
    "    Y = Y.reshape((-1,1))\n",
    "    theta = np.zeros((col,1))\n",
    "    num = 0\n",
    "    for i in range(iternum):\n",
    "        if sgd == 0 :\n",
    "            derr = (-1*X*Y).T.dot(sigmoid(-1*X.dot(theta)*Y))/row\n",
    "            #derr = -1*X.T.dot(Y).dot(sigmoid(-1*theta.T.dot(X.T).dot(Y)))/row\n",
    "            #-1*X.T.dot(Y) is problematic, since added before multply. Pay attention to broadcast!!\n",
    "        else:\n",
    "            if num >= row:\n",
    "                num=0\n",
    "            derr = -1*X[num:num+1, :].T*Y[num, 0]*sigmoid(-1*X[num, :].dot(theta)*Y[num,0])\n",
    "            num += 1\n",
    "        theta -= eta*derr\n",
    "        \n",
    "    return theta, derr\n",
    " "
   ]
  },
  {
   "cell_type": "code",
   "execution_count": 127,
   "metadata": {
    "collapsed": true
   },
   "outputs": [],
   "source": []
  },
  {
   "cell_type": "code",
   "execution_count": 208,
   "metadata": {
    "collapsed": true
   },
   "outputs": [],
   "source": [
    "# calculate mistake\n",
    "def mistake(X, Y, theta):\n",
    "    ypred = X.dot(theta)\n",
    "    ypred[ypred>0] = 1\n",
    "    ypred[ypred<=0] = -1\n",
    "    err1 = np.sum(ypred != Y)\n",
    "    err = float(err1)/len(Y)\n",
    "    return err"
   ]
  },
  {
   "cell_type": "code",
   "execution_count": 123,
   "metadata": {
    "collapsed": true
   },
   "outputs": [],
   "source": []
  },
  {
   "cell_type": "code",
   "execution_count": 227,
   "metadata": {
    "collapsed": false
   },
   "outputs": [
    {
     "data": {
      "text/plain": [
       "(1, 21)"
      ]
     },
     "execution_count": 227,
     "metadata": {},
     "output_type": "execute_result"
    }
   ],
   "source": [
    "Xtrain, Ytrain = loadData('hw3_train.dat')\n",
    "Xtest, Ytest = loadData('hw3_test.dat')\n",
    "X[1:2,:].shape"
   ]
  },
  {
   "cell_type": "code",
   "execution_count": 216,
   "metadata": {
    "collapsed": false
   },
   "outputs": [
    {
     "name": "stdout",
     "output_type": "stream",
     "text": [
      "0.466 0.475\n"
     ]
    }
   ],
   "source": [
    "#Q18\n",
    "eta = 0.001; iternum = 2000\n",
    "theta, err = logistic(Xtrain, Ytrain, eta, iternum, sgd=0)\n",
    "ein = mistake(Xtrain,Ytrain,theta)\n",
    "error = mistake(Xtest, Ytest, theta)\n",
    "print ein, error"
   ]
  },
  {
   "cell_type": "code",
   "execution_count": 217,
   "metadata": {
    "collapsed": false
   },
   "outputs": [
    {
     "name": "stdout",
     "output_type": "stream",
     "text": [
      "0.197 0.22\n"
     ]
    }
   ],
   "source": [
    "#Q19\n",
    "eta = 0.01; iternum = 2000\n",
    "theta, err = logistic(Xtrain, Ytrain, eta, iternum, sgd=0)\n",
    "ein = mistake(Xtrain,Ytrain,theta)\n",
    "error = mistake(Xtest, Ytest, theta)\n",
    "print ein, error"
   ]
  },
  {
   "cell_type": "code",
   "execution_count": 235,
   "metadata": {
    "collapsed": false
   },
   "outputs": [
    {
     "name": "stdout",
     "output_type": "stream",
     "text": [
      "0.464 0.473\n"
     ]
    }
   ],
   "source": [
    "#Q20\n",
    "eta = 0.001; iternum = 2000; sgd = 1\n",
    "theta, err = logistic(Xtrain, Ytrain, eta, iternum, sgd)\n",
    "ein = mistake(Xtrain, Ytrain, theta)\n",
    "eout = mistake(Xtest, Ytest, theta)\n",
    "print ein, eout"
   ]
  }
 ],
 "metadata": {
  "kernelspec": {
   "display_name": "Python 2",
   "language": "python",
   "name": "python2"
  },
  "language_info": {
   "codemirror_mode": {
    "name": "ipython",
    "version": 2
   },
   "file_extension": ".py",
   "mimetype": "text/x-python",
   "name": "python",
   "nbconvert_exporter": "python",
   "pygments_lexer": "ipython2",
   "version": "2.7.13"
  }
 },
 "nbformat": 4,
 "nbformat_minor": 2
}

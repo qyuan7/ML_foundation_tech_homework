{
 "cells": [
  {
   "cell_type": "code",
   "execution_count": 7,
   "metadata": {
    "collapsed": true,
    "deletable": true,
    "editable": true
   },
   "outputs": [],
   "source": [
    "import numpy as np\n",
    "import pandas as pd\n",
    "import math\n",
    "import scipy.linalg as lin\n",
    "import matplotlib.pyplot as plt"
   ]
  },
  {
   "cell_type": "code",
   "execution_count": 4,
   "metadata": {
    "collapsed": false,
    "deletable": true,
    "editable": true
   },
   "outputs": [
    {
     "data": {
      "image/png": "[encoded data removed]",
      "text/plain": [
       "<matplotlib.figure.Figure at 0x7f0c45f05860>"
      ]
     },
     "metadata": {},
     "output_type": "display_data"
    }
   ],
   "source": [
    "# Q3---4种不同的错误判据和0/1判据\n",
    "z = np.arange(-2, 2, 0.01)\n",
    "e0temp = z.copy()\n",
    "e0temp[e0temp >= 0] = 0\n",
    "e0temp[e0temp < 0] = 1\n",
    "e0 = e0temp\n",
    "e1 = -z.copy()\n",
    "e2temp = 1-z.copy()\n",
    "e2temp[e2temp < 0] = 0\n",
    "e2 = np.power(e2temp, 2)\n",
    "e3temp = -z.copy()\n",
    "e3temp[e3temp < 0] = 0\n",
    "e3 = e3temp\n",
    "e4 = 1/(1+np.exp(z))\n",
    "plt.plot(z, e0, label='err0/1'); plt.plot(z, e1, label='erra'); plt.plot(z, e2, label='errb')\n",
    "plt.plot(z, e3, label='errc'); plt.plot(z, e4, label='errd')\n",
    "plt.legend()\n",
    "plt.show()"
   ]
  },
  {
   "cell_type": "code",
   "execution_count": 6,
   "metadata": {
    "collapsed": false,
    "deletable": true,
    "editable": true
   },
   "outputs": [
    {
     "name": "stdout",
     "output_type": "stream",
     "text": [
      "u= 0.09413996302028127 v= 0.0017891105951028273\n",
      "2.8250003566832635\n"
     ]
    }
   ],
   "source": [
    "# Q7\n",
    "u = 0; v = 0\n",
    "eta = 0.01\n",
    "for i in range(5):\n",
    "    du = math.exp(u)+v*math.exp(u*v)+2*u-2*v-3\n",
    "    dv = 2*math.exp(2*v)+u*math.exp(u*v)-2*u+4*v-2\n",
    "    u -= eta*du\n",
    "    v -= eta*dv\n",
    "print('u=',u,'v=',v)\n",
    "E = math.exp(u)+math.exp(2*v)+math.exp(u*v)+u**2-2*u*v+2*v**2-3*u-2*v\n",
    "print(E)"
   ]
  },
  {
   "cell_type": "code",
   "execution_count": 8,
   "metadata": {
    "collapsed": false,
    "deletable": true,
    "editable": true
   },
   "outputs": [
    {
     "name": "stdout",
     "output_type": "stream",
     "text": [
      "u and v:  [[ 0.61181172  0.07049955]]\n",
      "E:  2.36082334564\n"
     ]
    }
   ],
   "source": [
    "u = 0; v = 0\n",
    "uv = np.array([[0], [0]])\n",
    "# eta = 0.01\n",
    "for i in range(5):\n",
    "    du = math.exp(u)+v*math.exp(u*v)+2*u-2*v-3\n",
    "    dv = 2*math.exp(2*v)+u*math.exp(u*v)-2*u+4*v-2\n",
    "    # u -= eta*du\n",
    "    # v -= eta*dv\n",
    "    du2 = math.exp(u)+v**2*math.exp(u*v)+2\n",
    "    dv2 = 4*math.exp(2*v)+u**2*math.exp(u*v)+4\n",
    "    dudv = math.exp(u*v)+v*u*math.exp(u*v)-2\n",
    "    ddE = np.array([[du2, dudv], [dudv, dv2]])\n",
    "    dE = np.array([[du], [dv]])\n",
    "    uv = uv-lin.inv(ddE).dot(dE)\n",
    "    u = uv[0, 0]\n",
    "    v = uv[1, 0]\n",
    "print('u and v: ',uv.T)\n",
    "E = math.exp(u)+math.exp(2*v)+math.exp(u*v)+u**2-2*u*v+2*v**2-3*u-2*v\n",
    "print('E: ',E)"
   ]
  },
  {
   "cell_type": "code",
   "execution_count": 10,
   "metadata": {
    "collapsed": false,
    "deletable": true,
    "editable": true
   },
   "outputs": [
    {
     "name": "stdout",
     "output_type": "stream",
     "text": [
      "[[ 1  1  1  1  1  1]\n",
      " [ 1  1 -1  1 -1  1]\n",
      " [ 1 -1 -1  1  1  1]\n",
      " [ 1 -1  1  1 -1  1]\n",
      " [ 1  0  0  0  0  0]\n",
      " [ 1  1  0  1  0  0]]\n"
     ]
    }
   ],
   "source": [
    "a = np.array([[1,1,1,1,1,1],[1,1,-1,1,-1,1],[1,-1,-1,1,1,1],[1,-1,1,1,-1,1],[1,0,0,0,0,0],[1,1,0,1,0,0]])\n",
    "print(a)"
   ]
  },
  {
   "cell_type": "code",
   "execution_count": 11,
   "metadata": {
    "collapsed": true,
    "deletable": true,
    "editable": true
   },
   "outputs": [],
   "source": [
    "# 数据生成函数\n",
    "def generateData(num):\n",
    "    axeX = np.random.uniform(-1, 1, num)\n",
    "    axeY = np.random.uniform(-1, 1, num)\n",
    "    Xtemp = np.c_[axeX, axeY]\n",
    "    X = np.c_[np.ones((num, 1)), Xtemp]\n",
    "    Ytemp = np.sign(np.power(axeX, 2)+np.power(axeY, 2)-0.6)\n",
    "    Ytemp[Ytemp == 0] = -1\n",
    "    pos = np.random.permutation(num)\n",
    "    Ytemp[pos[0: round(0.1*num)]] *= -1\n",
    "    Y = Ytemp.reshape((num, 1))\n",
    "    return X, Y"
   ]
  },
  {
   "cell_type": "code",
   "execution_count": 13,
   "metadata": {
    "collapsed": false,
    "deletable": true,
    "editable": true
   },
   "outputs": [
    {
     "name": "stdout",
     "output_type": "stream",
     "text": [
      "Ein:  0.503646\n"
     ]
    }
   ],
   "source": [
    "totalerr = 0\n",
    "for i in range(1000):\n",
    "    X, Y = generateData(1000)\n",
    "    theta = lin.pinv(X.T.dot(X)).dot(X.T).dot(Y)\n",
    "    ypred = np.sign(X.dot(theta))\n",
    "    err = np.sum(ypred!=Y)/1000\n",
    "    totalerr += err\n",
    "print('Ein: ', totalerr/1000)"
   ]
  },
  {
   "cell_type": "code",
   "execution_count": 14,
   "metadata": {
    "collapsed": true,
    "deletable": true,
    "editable": true
   },
   "outputs": [],
   "source": [
    "# 特征转换函数\n",
    "def transform(X):\n",
    "    row, col = X.shape\n",
    "    Xback = np.zeros((row, 6))\n",
    "    Xback[:, 0:col] = X\n",
    "    Xback[:, col] = X[:, 1]*X[:, 2]\n",
    "    Xback[:, col+1] = X[:, 1]**2\n",
    "    Xback[:, col+2] = X[:, 2]**2\n",
    "    return Xback"
   ]
  },
  {
   "cell_type": "code",
   "execution_count": 18,
   "metadata": {
    "collapsed": false,
    "deletable": true,
    "editable": true
   },
   "outputs": [
    {
     "name": "stdout",
     "output_type": "stream",
     "text": [
      "theta:  [[-1.01626639  0.07325707  0.02834912 -0.0155599   1.63387468  1.52477431]]\n",
      "Ein:  0.12608\n"
     ]
    }
   ],
   "source": [
    "# Q14\n",
    "totalerr = 0\n",
    "for i in range(1000):\n",
    "    X, Y = generateData(1000)\n",
    "    Xtran = transform(X)\n",
    "    theta = lin.pinv(Xtran.T.dot(Xtran)).dot(Xtran.T).dot(Y)\n",
    "    Xtest, Ytest = generateData(1000)\n",
    "    Xback = transform(Xtest)\n",
    "    ypred = np.sign(Xback.dot(theta))\n",
    "    err = np.sum(ypred!=Ytest)/1000\n",
    "    totalerr += err\n",
    "print('theta: ', theta.T)\n",
    "print('Ein: ', totalerr/1000)"
   ]
  },
  {
   "cell_type": "code",
   "execution_count": 2,
   "metadata": {
    "collapsed": true,
    "deletable": true,
    "editable": true
   },
   "outputs": [],
   "source": [
    "# sigmoid函数\n",
    "def sigmoid(z):\n",
    "    zback = 1/(1+np.exp(-1*z))\n",
    "    return zback"
   ]
  },
  {
   "cell_type": "code",
   "execution_count": 3,
   "metadata": {
    "collapsed": true
   },
   "outputs": [],
   "source": [
    "# Logistic Regression\n",
    "def logisticReg(X, Y, eta, numiter, flag=0):\n",
    "    row, col = X.shape\n",
    "    theta = np.zeros((col, 1))\n",
    "    num = 0\n",
    "    for i in range(numiter):\n",
    "        if flag == 0:\n",
    "            derr = (-1*X*Y).T.dot(sigmoid(-1*X.dot(theta)*Y))/row\n",
    "        else:\n",
    "            if num >= row:\n",
    "                num = 0\n",
    "            derr = -Y[num, 0]*X[num: num+1, :].T*sigmoid(-1*X[num, :].dot(theta)[0]*Y[num, 0])\n",
    "            num += 1\n",
    "        theta -= eta*derr\n",
    "    return theta"
   ]
  },
  {
   "cell_type": "code",
   "execution_count": 4,
   "metadata": {
    "collapsed": true
   },
   "outputs": [],
   "source": [
    "# 导入数据函数\n",
    "def loadData(filename):\n",
    "    data = pd.read_csv(filename, sep='\\s+', header=None)\n",
    "    data = data.as_matrix()\n",
    "    col, row = data.shape\n",
    "    X = np.c_[np.ones((col, 1)), data[:, 0: row-1]]\n",
    "    Y = data[:, row-1:row]\n",
    "    return X, Y"
   ]
  },
  {
   "cell_type": "code",
   "execution_count": 5,
   "metadata": {
    "collapsed": true
   },
   "outputs": [],
   "source": [
    "# 误差计算函数\n",
    "def mistake(X, Y, theta):\n",
    "    yhat = X.dot(theta)\n",
    "    yhat[yhat > 0] = 1\n",
    "    yhat[yhat <= 0] = -1\n",
    "    err = np.sum(yhat != Y)/len(Y)\n",
    "    return err"
   ]
  },
  {
   "cell_type": "code",
   "execution_count": 8,
   "metadata": {
    "collapsed": false
   },
   "outputs": [],
   "source": [
    "X, Y = loadData('hw3_train.dat')\n",
    "Xtest, Ytest = loadData('hw3_test.dat')"
   ]
  },
  {
   "cell_type": "code",
   "execution_count": 10,
   "metadata": {
    "collapsed": false
   },
   "outputs": [
    {
     "name": "stdout",
     "output_type": "stream",
     "text": [
      "Ein =  0.466 Eout =  0.475\n"
     ]
    }
   ],
   "source": [
    "# Q18\n",
    "eta = 0.001; T = 2000; flag = 0\n",
    "theta = logisticReg(X, Y, eta, T, flag)\n",
    "errin = mistake(X, Y, theta)\n",
    "errout = mistake(Xtest, Ytest, theta)\n",
    "print('Ein = ', errin,'Eout = ', errout)"
   ]
  },
  {
   "cell_type": "code",
   "execution_count": 11,
   "metadata": {
    "collapsed": false
   },
   "outputs": [
    {
     "name": "stdout",
     "output_type": "stream",
     "text": [
      "Ein =  0.197 Eout =  0.22\n"
     ]
    }
   ],
   "source": [
    "# Q19\n",
    "eta = 0.01; T = 2000; flag = 0\n",
    "theta = logisticReg(X, Y, eta, T, flag)\n",
    "errin = mistake(X, Y, theta)\n",
    "errout = mistake(Xtest, Ytest, theta)\n",
    "print('Ein = ', errin,'Eout = ', errout)"
   ]
  },
  {
   "cell_type": "code",
   "execution_count": 12,
   "metadata": {
    "collapsed": false
   },
   "outputs": [
    {
     "name": "stdout",
     "output_type": "stream",
     "text": [
      "Ein =  0.464 Eout =  0.473\n"
     ]
    }
   ],
   "source": [
    "# Q20\n",
    "eta = 0.001; T = 2000; flag = 1\n",
    "theta = logisticReg(X, Y, eta, T, flag)\n",
    "errin = mistake(X, Y, theta)\n",
    "errout = mistake(Xtest, Ytest, theta)\n",
    "print('Ein = ', errin,'Eout = ', errout)"
   ]
  }
 ],
 "metadata": {
  "kernelspec": {
   "display_name": "Python 2",
   "language": "python",
   "name": "python2"
  },
  "language_info": {
   "codemirror_mode": {
    "name": "ipython",
    "version": 2
   },
   "file_extension": ".py",
   "mimetype": "text/x-python",
   "name": "python",
   "nbconvert_exporter": "python",
   "pygments_lexer": "ipython2",
   "version": "2.7.13"
  }
 },
 "nbformat": 4,
 "nbformat_minor": 2
}

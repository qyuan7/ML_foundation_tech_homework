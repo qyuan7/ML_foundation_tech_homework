{
 "cells": [
  {
   "cell_type": "code",
   "execution_count": 2,
   "metadata": {
    "collapsed": true
   },
   "outputs": [],
   "source": [
    "import math\n",
    "import numpy as np\n",
    "import pandas as pd\n",
    "import matplotlib.pyplot as plt"
   ]
  },
  {
   "cell_type": "code",
   "execution_count": 14,
   "metadata": {
    "collapsed": false
   },
   "outputs": [],
   "source": [
    "# Import data\n",
    "def loaddata(filename):\n",
    "    data = pd.read_csv(filename, sep='\\s+', header=None)\n",
    "    data = data.as_matrix()\n",
    "    row, col = data.shape\n",
    "    X = np.c_[np.ones((row,1)),data[:,:-1]]\n",
    "    Y = data[:, -1]\n",
    "    return X, Y"
   ]
  },
  {
   "cell_type": "code",
   "execution_count": 16,
   "metadata": {
    "collapsed": false
   },
   "outputs": [
    {
     "data": {
      "text/plain": [
       "array([[  1.   ,   8.105,  -3.5  ,   4.769,   4.541,  -9.829,   5.252,\n",
       "          3.838,  -3.408,  -4.824],\n",
       "       [  1.   ,  -6.273,  -2.097,   9.404,   1.143,   3.487,  -5.206,\n",
       "          0.061,   5.024,  -6.687],\n",
       "       [  1.   ,   1.624,  -1.173,   4.26 ,  -3.607,  -6.632,   4.431,\n",
       "         -8.355,   7.206,  -8.977],\n",
       "       [  1.   , -10.   ,   7.758,  -2.67 ,  -8.88 ,  -1.099,  -9.183,\n",
       "         -4.086,   8.962,   5.841],\n",
       "       [  1.   ,   8.464,   1.762,   2.729,   2.724,   8.155,   6.096,\n",
       "         -2.844,   9.8  ,   3.302],\n",
       "       [  1.   ,  -0.135,   6.193,   7.705,   7.195,   7.313,  -3.395,\n",
       "          8.012,  -6.773,  -4.433],\n",
       "       [  1.   ,   0.934,  -8.379,  -2.083,  -6.337,   4.346,  -3.928,\n",
       "          9.759,  -8.499,  -4.128],\n",
       "       [  1.   ,   8.923,  -0.018,  -6.837,   6.628,  -2.823,  -9.524,\n",
       "         -6.767,  -4.811,  -6.296],\n",
       "       [  1.   ,  -9.028,   7.01 ,  -9.063,  -1.111,  -9.328,   5.282,\n",
       "          4.96 ,  -9.569,   6.784],\n",
       "       [  1.   ,  -9.706,   1.392,   6.562,  -6.543,  -1.98 ,  -6.261,\n",
       "         -6.067,   1.254,  -1.071]])"
      ]
     },
     "execution_count": 16,
     "metadata": {},
     "output_type": "execute_result"
    }
   ],
   "source": [
    "X, Y = loaddata('hw2_train.dat')\n",
    "X[0:10]"
   ]
  },
  {
   "cell_type": "code",
   "execution_count": 48,
   "metadata": {
    "collapsed": true
   },
   "outputs": [],
   "source": [
    "#Generate data\n",
    "def generatedata():\n",
    "    x = np.random.uniform(-1,1,20)\n",
    "    y = np.sign(x)\n",
    "    y[np.where(y==0)] = -1 # Or y[y==0] = -1\n",
    "    p = np.random.uniform(0,1,20)\n",
    "    y[p>=0.8] *= -1\n",
    "    return x, y"
   ]
  },
  {
   "cell_type": "code",
   "execution_count": 55,
   "metadata": {
    "collapsed": true
   },
   "outputs": [],
   "source": [
    "#Decision stump\n",
    "def decision_stump(X,Y):\n",
    "    theta  = np.sort(X)\n",
    "    num = len(theta)\n",
    "    t = theta.reshape(-1,1)\n",
    "    Xtemp = np.tile(X, (num,1))\n",
    "    ttemp = np.tile(t, (1, num))\n",
    "    ypred = np.sign(Xtemp-ttemp)\n",
    "    ypred[ypred == 0] = -1\n",
    "    err = np.sum(ypred != Y, axis=1)\n",
    "    if np.min(err) <= num-np.max(err):\n",
    "        return 1, theta[np.argmin(err)], float(np.min(err))/num\n",
    "    else:\n",
    "        return -1, theta[np.argmax(err)], float((num-np.max(err)))/num"
   ]
  },
  {
   "cell_type": "code",
   "execution_count": 56,
   "metadata": {
    "collapsed": false
   },
   "outputs": [
    {
     "name": "stdout",
     "output_type": "stream",
     "text": [
      "('\\xe8\\xae\\xad\\xe7\\xbb\\x83\\xe9\\x9b\\x86\\xe5\\xb9\\xb3\\xe5\\x9d\\x87\\xe8\\xaf\\xaf\\xe5\\xb7\\xae: ', 0.16953000000000049)\n",
      "('\\xe6\\xb5\\x8b\\xe8\\xaf\\x95\\xe9\\x9b\\x86\\xe5\\xb9\\xb3\\xe5\\x9d\\x87\\xe8\\xaf\\xaf\\xe5\\xb7\\xae: ', 0.26303810005824724)\n"
     ]
    }
   ],
   "source": [
    "# Q17和Q18\n",
    "totalin = 0; totalout = 0\n",
    "for i in range(5000):\n",
    "    X, Y = generatedata()\n",
    "    theta = np.sort(X)\n",
    "    s, theta, errin = decision_stump(X, Y)\n",
    "    errout = 0.5+0.3*s*(math.fabs(theta)-1)\n",
    "    totalin += errin\n",
    "    totalout += errout\n",
    "print('训练集平均误差: ', float(totalin)/5000)\n",
    "print('测试集平均误差: ', totalout/5000)"
   ]
  }
 ],
 "metadata": {
  "kernelspec": {
   "display_name": "Python 2",
   "language": "python",
   "name": "python2"
  },
  "language_info": {
   "codemirror_mode": {
    "name": "ipython",
    "version": 2
   },
   "file_extension": ".py",
   "mimetype": "text/x-python",
   "name": "python",
   "nbconvert_exporter": "python",
   "pygments_lexer": "ipython2",
   "version": "2.7.13"
  }
 },
 "nbformat": 4,
 "nbformat_minor": 2
}

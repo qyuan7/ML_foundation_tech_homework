{
 "cells": [
  {
   "cell_type": "code",
   "execution_count": 1,
   "metadata": {
    "collapsed": true
   },
   "outputs": [],
   "source": [
    "import math\n",
    "import numpy as np\n",
    "import pandas as pd\n",
    "import matplotlib.pyplot as plt"
   ]
  },
  {
   "cell_type": "markdown",
   "metadata": {},
   "source": [
    "Q4和Q5的程序"
   ]
  },
  {
   "cell_type": "code",
   "execution_count": 3,
   "metadata": {
    "collapsed": false
   },
   "outputs": [
    {
     "name": "stdout",
     "output_type": "stream",
     "text": [
      "Original VC bound (10000) and (5):  0.632203362312 \t 13.828161485\n",
      "Rademacher Penalty Bound (10000) and (5):  0.33132369478 \t 7.04877656418\n",
      "Parrondo and Van den Broek (10000) and (5):  0.223708366246 \t 5.10136198199\n",
      "Devroye (10000) and (5):  0.215237656725 \t 5.59312554318\n",
      "Variant VC bound (10000) and (5):  0.860464345894 \t 16.264111061\n"
     ]
    },
    {
     "data": {
      "image/png": "[encoded data removed]",
      "text/plain": [
       "<matplotlib.figure.Figure at 0x7f60cb97bac8>"
      ]
     },
     "metadata": {},
     "output_type": "display_data"
    }
   ],
   "source": [
    "n = np.arange(3, 10000)\n",
    "f1 = np.sqrt(8/n*(np.log(80)+50*np.log(2*n)))\n",
    "print('Original VC bound (10000) and (5): ', f1[-1], '\\t', f1[2])\n",
    "f2 = np.sqrt(2/n*(np.log(2*n)+50*np.log(n)))+np.sqrt(2/n*math.log(20))+1/n\n",
    "print('Rademacher Penalty Bound (10000) and (5): ', f2[-1], '\\t', f2[2])\n",
    "f3 = 1/n+np.sqrt(1/np.power(n, 2)+1/n*(np.log(120)+50*np.log(2*n)))\n",
    "print('Parrondo and Van den Broek (10000) and (5): ', f3[-1], '\\t', f3[2])\n",
    "f4 = 1/(n-2)+np.sqrt(1/np.power(n-2, 2)+1/(2*n-4)*(np.log(80)+100*np.log(n)))\n",
    "print('Devroye (10000) and (5): ', f4[-1], '\\t', f4[2])\n",
    "f5 = np.sqrt(16/n*(np.log(2/math.sqrt(0.05))+50*np.log(n)))\n",
    "print('Variant VC bound (10000) and (5): ', f5[-1], '\\t', f5[2])\n",
    "plt.plot(n, f1, label='Original VC bound')\n",
    "plt.plot(n, f2, label='Rademacher Penalty Bound')\n",
    "plt.plot(n, f3, label='Parrondo and Van den Broek')\n",
    "plt.plot(n, f4, label='Devroye')\n",
    "plt.plot(n, f5, label='Variant VC bound')\n",
    "plt.legend()\n",
    "plt.show()"
   ]
  },
  {
   "cell_type": "markdown",
   "metadata": {},
   "source": [
    "Q16-Q20的程序"
   ]
  },
  {
   "cell_type": "code",
   "execution_count": 4,
   "metadata": {
    "collapsed": true
   },
   "outputs": [],
   "source": [
    "# 导入数据函数\n",
    "def loadData(filename):\n",
    "    data = pd.read_csv(filename, sep='\\s+', header=None)\n",
    "    data = data.as_matrix()\n",
    "    col, row = data.shape\n",
    "    X = np.c_[np.ones((col, 1)), data[:, 0: row-1]]\n",
    "    Y = data[:, row-1:row]\n",
    "    return X, Y"
   ]
  },
  {
   "cell_type": "code",
   "execution_count": 6,
   "metadata": {
    "collapsed": true
   },
   "outputs": [],
   "source": [
    "# 生成数据函数\n",
    "def generateData():\n",
    "    x = np.random.uniform(-1, 1, 20)\n",
    "    y = np.sign(x)\n",
    "    y[y == 0] = -1\n",
    "    prop = np.random.uniform(0, 1, 20)\n",
    "    y[prop >= 0.8] *= -1\n",
    "    return x, y"
   ]
  },
  {
   "cell_type": "code",
   "execution_count": 7,
   "metadata": {
    "collapsed": true
   },
   "outputs": [],
   "source": [
    "# 单维度决策树桩算法\n",
    "def decision_stump(X, Y):\n",
    "    theta = np.sort(X)\n",
    "    num = len(theta)\n",
    "    Xtemp = np.tile(X, (num, 1))\n",
    "    ttemp = np.tile(np.reshape(theta, (num, 1)), (1, num))\n",
    "    ypred = np.sign(Xtemp - ttemp)\n",
    "    ypred[ypred == 0] = -1\n",
    "    err = np.sum(ypred != Y, axis=1)\n",
    "    if np.min(err) <= num-np.max(err):\n",
    "        return 1, theta[np.argmin(err)], np.min(err)/num\n",
    "    else:\n",
    "        return -1, theta[np.argmax(err)], (num-np.max(err))/num"
   ]
  },
  {
   "cell_type": "code",
   "execution_count": 12,
   "metadata": {
    "collapsed": true
   },
   "outputs": [],
   "source": [
    "# 多维度决策树桩算法\n",
    "def decision_stump_multi(X, Y):\n",
    "    row, col = X.shape\n",
    "    err = np.zeros((col,)); s = np.zeros((col,)); theta = np.zeros((col,))\n",
    "    for i in range(col):\n",
    "        s[i], theta[i], err[i] = decision_stump(X[:, i], Y[:, 0])\n",
    "    pos = np.argmin(err)\n",
    "    return pos, s[pos], theta[pos], err[pos]"
   ]
  },
  {
   "cell_type": "markdown",
   "metadata": {},
   "source": [
    "Q17"
   ]
  },
  {
   "cell_type": "code",
   "execution_count": 10,
   "metadata": {
    "collapsed": false
   },
   "outputs": [
    {
     "name": "stdout",
     "output_type": "stream",
     "text": [
      "训练集平均误差:  0.17111\n",
      "测试集平均误差:  0.2613195070168455\n"
     ]
    }
   ],
   "source": [
    "# Q17和Q18\n",
    "totalin = 0; totalout = 0\n",
    "for i in range(5000):\n",
    "    X, Y = generateData()\n",
    "    theta = np.sort(X)\n",
    "    s, theta, errin = decision_stump(X, Y)\n",
    "    errout = 0.5+0.3*s*(math.fabs(theta)-1)\n",
    "    totalin += errin\n",
    "    totalout += errout\n",
    "print('训练集平均误差: ', totalin/5000)\n",
    "print('测试集平均误差: ', totalout/5000)"
   ]
  },
  {
   "cell_type": "code",
   "execution_count": 13,
   "metadata": {
    "collapsed": false
   },
   "outputs": [
    {
     "name": "stdout",
     "output_type": "stream",
     "text": [
      "训练集误差:  0.25\n",
      "测试集误差:  0.355\n"
     ]
    }
   ],
   "source": [
    "# Q19和Q20\n",
    "X, Y = loadData('hw2_train.dat')\n",
    "Xtest, Ytest = loadData('hw2_test.dat')\n",
    "pos, s, theta, err = decision_stump_multi(X, Y)\n",
    "print('训练集误差: ', err)\n",
    "ypred = s*np.sign(Xtest[:, pos]-theta)\n",
    "ypred[ypred == 0] = -1\n",
    "row, col = Ytest.shape\n",
    "errout = np.sum(ypred != Ytest.reshape(row,))/len(ypred)\n",
    "print('测试集误差: ', errout)"
   ]
  },
  {
   "cell_type": "code",
   "execution_count": null,
   "metadata": {
    "collapsed": true
   },
   "outputs": [],
   "source": []
  }
 ],
 "metadata": {
  "kernelspec": {
   "display_name": "Python 2",
   "language": "python",
   "name": "python2"
  },
  "language_info": {
   "codemirror_mode": {
    "name": "ipython",
    "version": 2
   },
   "file_extension": ".py",
   "mimetype": "text/x-python",
   "name": "python",
   "nbconvert_exporter": "python",
   "pygments_lexer": "ipython2",
   "version": "2.7.13"
  }
 },
 "nbformat": 4,
 "nbformat_minor": 2
}
